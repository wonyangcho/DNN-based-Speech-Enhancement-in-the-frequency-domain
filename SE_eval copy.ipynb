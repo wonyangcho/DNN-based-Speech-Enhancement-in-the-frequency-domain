{
 "cells": [
  {
   "cell_type": "code",
   "execution_count": 1,
   "id": "37dada11-858a-4c37-be37-1f48408594ff",
   "metadata": {},
   "outputs": [
    {
     "name": "stdout",
     "output_type": "stream",
     "text": [
      "--------------------  C  O  N  F  I  G  ----------------------\n",
      "--------------------------------------------------------------\n",
      "MODEL INFO : DCCRN\n",
      "LOSS INFO : SI-SNR, perceptual : False\n",
      "LSTM : complex\n",
      "SKIP : True\n",
      "MASKING INFO : E\n",
      "\n",
      "BATCH : 10\n",
      "LEARNING RATE : 0.001\n",
      "--------------------------------------------------------------\n",
      "--------------------------------------------------------------\n",
      "\n"
     ]
    }
   ],
   "source": [
    "import os\n",
    "import torch\n",
    "import numpy as np\n",
    "from pesq import pesq\n",
    "import torch.nn as nn\n",
    "from pystoi import stoi\n",
    "from scipy.signal import get_window\n",
    "import numpy as np\n",
    "import matplotlib.pyplot as plt\n",
    "from models import DCCRN\n",
    "import librosa"
   ]
  },
  {
   "cell_type": "code",
   "execution_count": 2,
   "id": "53907d3a",
   "metadata": {},
   "outputs": [],
   "source": [
    "model = [DCCRN().cuda(),DCCRN().cuda(),DCCRN().cuda()]\n",
    "\n"
   ]
  },
  {
   "cell_type": "code",
   "execution_count": 3,
   "id": "a19fa6d1",
   "metadata": {},
   "outputs": [
    {
     "data": {
      "text/plain": [
       "<All keys matched successfully>"
      ]
     },
     "execution_count": 3,
     "metadata": {},
     "output_type": "execute_result"
    }
   ],
   "source": [
    "chkpt_path = \"/work/hyerim/remixIT/DNN-based-Speech-Enhancement-in-the-frequency-domain/models/test/SI-SNR_NONE.pt\"\n",
    "checkpoint = torch.load(chkpt_path)\n",
    "model[0].load_state_dict(checkpoint['model'])"
   ]
  },
  {
   "cell_type": "code",
   "execution_count": 4,
   "id": "56926d2f",
   "metadata": {},
   "outputs": [
    {
     "data": {
      "text/plain": [
       "<All keys matched successfully>"
      ]
     },
     "execution_count": 4,
     "metadata": {},
     "output_type": "execute_result"
    }
   ],
   "source": [
    "chkpt_path = \"/work/hyerim/remixIT/DNN-based-Speech-Enhancement-in-the-frequency-domain/models/test/SI-SNR_LMS.pt\"\n",
    "checkpoint = torch.load(chkpt_path)\n",
    "model[1].load_state_dict(checkpoint['model'])"
   ]
  },
  {
   "cell_type": "code",
   "execution_count": 5,
   "id": "004aeb80",
   "metadata": {},
   "outputs": [
    {
     "data": {
      "text/plain": [
       "<All keys matched successfully>"
      ]
     },
     "execution_count": 5,
     "metadata": {},
     "output_type": "execute_result"
    }
   ],
   "source": [
    "chkpt_path = \"/work/hyerim/remixIT/DNN-based-Speech-Enhancement-in-the-frequency-domain/models/test/MSE_PMSQE.pt\"\n",
    "checkpoint = torch.load(chkpt_path)\n",
    "model[2].load_state_dict(checkpoint['model'])"
   ]
  },
  {
   "cell_type": "markdown",
   "id": "c574f09d-9d22-4e1c-a01d-036382de3633",
   "metadata": {},
   "source": [
    "### Tools for Score"
   ]
  },
  {
   "cell_type": "code",
   "execution_count": 10,
   "id": "4469ec62-ab3b-4cd2-bdb0-9083ec3cd319",
   "metadata": {},
   "outputs": [],
   "source": [
    "###############################################################################\n",
    "#                           PESQ (another ref)                                #\n",
    "###############################################################################\n",
    "# interface to PESQ evaluation, taking in two waveforms as input\n",
    "def cal_pesq(fs, dirty_wavs, clean_wavs):\n",
    "    scores = []\n",
    "    for i in range(len(dirty_wavs)):\n",
    "        try:\n",
    "            pesq_score = pesq(fs, dirty_wavs[i], clean_wavs[i], 'nb')\n",
    "            scores.append(pesq_score)\n",
    "        except Exception as e:\n",
    "           \n",
    "            continue\n",
    "    return scores\n",
    "\n",
    "\n"
   ]
  },
  {
   "cell_type": "markdown",
   "id": "9dc6b970-56a8-4e9d-b312-b609210ad917",
   "metadata": {
    "tags": []
   },
   "source": [
    "### Test"
   ]
  },
  {
   "cell_type": "code",
   "execution_count": 11,
   "id": "20559c10",
   "metadata": {},
   "outputs": [],
   "source": [
    "\n",
    "def preprocess_wav(file_path):\n",
    "    y, sr = librosa.load(file_path, sr=8000)\n",
    "    return y"
   ]
  },
  {
   "cell_type": "code",
   "execution_count": 12,
   "id": "f5e0934e",
   "metadata": {},
   "outputs": [],
   "source": [
    "\n",
    "batch_num = 0\n",
    "\n",
    "avg_pesq_score = 0\n"
   ]
  },
  {
   "cell_type": "code",
   "execution_count": null,
   "id": "872abcc1",
   "metadata": {},
   "outputs": [],
   "source": []
  },
  {
   "cell_type": "code",
   "execution_count": 13,
   "id": "d7bfeecf-3901-4ccd-bf69-f54b1466334e",
   "metadata": {},
   "outputs": [
    {
     "name": "stdout",
     "output_type": "stream",
     "text": [
      "-5db 0 avg_pesq 3.781325807152214 0\n",
      "-5db 2 avg_pesq 3.8211362718225836 2\n",
      "0db 0 avg_pesq 3.9228338485235694 0\n",
      "0db 2 avg_pesq 3.950789683991736 0\n"
     ]
    }
   ],
   "source": [
    "fs = 8000\n",
    "\n",
    "folder_path = '/work/hyerim/remixIT/DNN-based-Speech-Enhancement-in-the-frequency-domain/data/wav/test'\n",
    "clean_files = [os.path.join(folder_path, f)\n",
    "               for f in os.listdir(folder_path) if f.endswith('.wav')]\n",
    "\n",
    "\n",
    "\n",
    "\n",
    "for db in [\"-5db\", \"0db\"]:\n",
    "\n",
    "    batch_num = 0\n",
    "\n",
    "    folder_path = f\"/work/hyerim/remixIT/DNN-based-Speech-Enhancement-in-the-frequency-domain/data/noisy/{db}/test\"\n",
    "    noisy_files = [os.path.join(folder_path, f)\n",
    "                   for f in os.listdir(folder_path) if f.endswith('.wav')]\n",
    "\n",
    "    \n",
    "    \n",
    "    save_score = [0 for _ in  clean_files]\n",
    "    pickup_files = []\n",
    "    \n",
    "    for idx_model in [0,2]:\n",
    "        model[idx_model].eval()\n",
    "        batch_num = 0\n",
    "        avg_pesq_score = 0\n",
    "\n",
    "        with torch.no_grad():\n",
    "            for index, clean_file in enumerate(clean_files):\n",
    "\n",
    "                batch_num += 1\n",
    "\n",
    "                noisy_file = noisy_files[index]\n",
    "\n",
    "                if os.path.basename(clean_file) != os.path.basename(noisy_file):\n",
    "                    print(f\"Not matched {clean_file} {noisy_file}\")\n",
    "                    continue\n",
    "\n",
    "                inputs, _ = librosa.load(noisy_file, sr=16000)\n",
    "                targets, _ = librosa.load(clean_file, sr=16000)\n",
    "\n",
    "                inputs = torch.Tensor(inputs).unsqueeze(dim=0).cuda()\n",
    "                targets = torch.Tensor(targets).unsqueeze(dim=0).cuda()\n",
    "\n",
    "                _,_,outputs = model[idx_model](inputs,targets)\n",
    "                \n",
    "            \n",
    "\n",
    "                # estimate the output speech with pesq and stoi\n",
    "                estimated_wavs = outputs.cpu().detach().numpy()\n",
    "                clean_wavs = targets.cpu().detach().numpy()\n",
    "             \n",
    "                pesq_score = cal_pesq(fs, estimated_wavs, clean_wavs)\n",
    "                \n",
    "               \n",
    "                \n",
    "                # for i in range(len(pesq_score)):\n",
    "                #     print(f\"PESQ {pesq_score[i]:.6f}\")\n",
    "                \n",
    "\n",
    "                \n",
    "                # reshape for sum\n",
    "                \n",
    "                pesq_score = np.reshape(pesq_score, (1, -1))\n",
    "                pesq_score = sum(pesq_score[0]) / len(inputs)\n",
    "               \n",
    "               \n",
    "                \n",
    "                if idx_model == 0:\n",
    "                    save_score[index] = pesq_score\n",
    "                    \n",
    "                if idx_model == 2:\n",
    "                    \n",
    "                    if save_score[index] != 0:\n",
    "                        ratio = (pesq_score - save_score[index])/save_score[index]\n",
    "                        \n",
    "                       \n",
    "                        \n",
    "                        if db == '-5db':\n",
    "                            if ratio > 0.07:\n",
    "                                pickup_files.append(clean_file)\n",
    "                        else:\n",
    "                            if ratio > 0.13:\n",
    "                                pickup_files.append(clean_file)\n",
    "                        \n",
    "               \n",
    "                avg_pesq_score += pesq_score\n",
    "\n",
    "       \n",
    "\n",
    "            avg_pesq_score /= batch_num\n",
    "            \n",
    "\n",
    "            print(f\"{db} {idx_model} avg_pesq {avg_pesq_score} {len(pickup_files)}\")"
   ]
  },
  {
   "cell_type": "code",
   "execution_count": null,
   "id": "ee144ab4-1741-4a63-8bed-6c258bb6a8c1",
   "metadata": {},
   "outputs": [],
   "source": []
  }
 ],
 "metadata": {
  "kernelspec": {
   "display_name": "ss",
   "language": "python",
   "name": "python3"
  },
  "language_info": {
   "codemirror_mode": {
    "name": "ipython",
    "version": 3
   },
   "file_extension": ".py",
   "mimetype": "text/x-python",
   "name": "python",
   "nbconvert_exporter": "python",
   "pygments_lexer": "ipython3",
   "version": "3.10.11"
  }
 },
 "nbformat": 4,
 "nbformat_minor": 5
}
