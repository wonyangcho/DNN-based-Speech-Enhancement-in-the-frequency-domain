{
 "cells": [
  {
   "cell_type": "code",
   "execution_count": 5,
   "id": "37dada11-858a-4c37-be37-1f48408594ff",
   "metadata": {},
   "outputs": [],
   "source": [
    "import os\n",
    "import torch\n",
    "import numpy as np\n",
    "from pesq import pesq\n",
    "import torch.nn as nn\n",
    "from pystoi import stoi\n",
    "from scipy.signal import get_window\n",
    "import numpy as np\n",
    "import matplotlib.pyplot as plt\n",
    "from models import DCCRN\n",
    "import librosa"
   ]
  },
  {
   "cell_type": "code",
   "execution_count": 2,
   "id": "247cdc7c-6057-4ec5-a0a4-d7ae18542cf4",
   "metadata": {},
   "outputs": [],
   "source": [
    "os.environ[\"CUDA_DEVICE_ORDER\"] = \"PCI_BUS_ID\"\n",
    "os.environ[\"CUDA_VISIBLE_DEVICES\"] = \"1\""
   ]
  },
  {
   "cell_type": "code",
   "execution_count": 3,
   "id": "53907d3a",
   "metadata": {},
   "outputs": [
    {
     "data": {
      "text/plain": [
       "<All keys matched successfully>"
      ]
     },
     "execution_count": 3,
     "metadata": {},
     "output_type": "execute_result"
    }
   ],
   "source": [
    "model = DCCRN().cuda()\n",
    "chkpt_path = \"/work/hyerim/remixIT/DNN-based-Speech-Enhancement-in-the-frequency-domain/models/EXPERIMENT_NUMBER_6.30_DCCRN_SDR/chkpt_97.pt\"\n",
    "checkpoint = torch.load(chkpt_path)\n",
    "model.load_state_dict(checkpoint['model'])"
   ]
  },
  {
   "cell_type": "markdown",
   "id": "c574f09d-9d22-4e1c-a01d-036382de3633",
   "metadata": {},
   "source": [
    "### Tools for Score"
   ]
  },
  {
   "cell_type": "code",
   "execution_count": 23,
   "id": "4469ec62-ab3b-4cd2-bdb0-9083ec3cd319",
   "metadata": {},
   "outputs": [],
   "source": [
    "###############################################################################\n",
    "#                           PESQ (another ref)                                #\n",
    "###############################################################################\n",
    "# interface to PESQ evaluation, taking in two waveforms as input\n",
    "def cal_pesq(fs, dirty_wavs, clean_wavs):\n",
    "    scores = []\n",
    "    for i in range(len(dirty_wavs)):\n",
    "        try:\n",
    "            pesq_score = pesq(fs, dirty_wavs[i], clean_wavs[i], 'nb')\n",
    "            scores.append(pesq_score)\n",
    "        except:\n",
    "            scores.append(5.0)\n",
    "    return scores\n",
    "\n",
    "\n",
    "###############################################################################\n",
    "#                                     STOI                                    #\n",
    "###############################################################################\n",
    "def cal_stoi(fs, estimated_speechs, clean_speechs):\n",
    "    stoi_scores = []\n",
    "    for i in range(len(estimated_speechs)):\n",
    "        stoi_score = stoi(\n",
    "            clean_speechs[i], estimated_speechs[i], fs, extended=False)\n",
    "        stoi_scores.append(stoi_score)\n",
    "    return stoi_scores\n",
    "\n",
    "\n",
    "###############################################################################\n",
    "#                                     SNR                                     #\n",
    "###############################################################################\n",
    "def cal_snr(s1, s2, eps=1e-8):\n",
    "    signal = s2\n",
    "    mean_signal = np.mean(signal)\n",
    "    signal_diff = signal - mean_signal\n",
    "    # # variance of orignal data\n",
    "    var_signal = np.sum(np.mean(signal_diff ** 2))\n",
    "\n",
    "    noisy_signal = s1\n",
    "    noise = noisy_signal - signal\n",
    "    mean_noise = np.mean(noise)\n",
    "    noise_diff = noise - mean_noise\n",
    "    var_noise = np.sum(np.mean(noise_diff ** 2))  # # variance of noise\n",
    "\n",
    "    if var_noise == 0:\n",
    "        snr_score = 100  # # clean\n",
    "    else:\n",
    "        snr_score = (np.log10(var_signal/var_noise + eps))*10\n",
    "    return snr_score\n",
    "\n",
    "\n",
    "def cal_snr_array(estimated_speechs, clean_speechs):\n",
    "    snr_score = []\n",
    "    for i in range(len(estimated_speechs)):\n",
    "        snr = cal_snr(estimated_speechs[i], clean_speechs[i])\n",
    "        snr_score.append(snr)\n",
    "    return snr_score"
   ]
  },
  {
   "cell_type": "markdown",
   "id": "9dc6b970-56a8-4e9d-b312-b609210ad917",
   "metadata": {
    "tags": []
   },
   "source": [
    "### Test"
   ]
  },
  {
   "cell_type": "code",
   "execution_count": 24,
   "id": "20559c10",
   "metadata": {},
   "outputs": [],
   "source": [
    "\n",
    "def preprocess_wav(file_path):\n",
    "    y, sr = librosa.load(file_path, sr=16000)\n",
    "    return y"
   ]
  },
  {
   "cell_type": "code",
   "execution_count": 25,
   "id": "f5e0934e",
   "metadata": {},
   "outputs": [],
   "source": [
    "\n",
    "batch_num = 0\n",
    "\n",
    "avg_pesq_score = 0\n",
    "avg_stoi_score = 0"
   ]
  },
  {
   "cell_type": "code",
   "execution_count": 26,
   "id": "872abcc1",
   "metadata": {},
   "outputs": [],
   "source": [
    "folder_path = '/work/hyerim/remixIT/DNN-based-Speech-Enhancement-in-the-frequency-domain/data/wav/test'\n",
    "clean_files = [os.path.join(folder_path, f)\n",
    "               for f in os.listdir(folder_path) if f.endswith('.wav')]"
   ]
  },
  {
   "cell_type": "code",
   "execution_count": 27,
   "id": "881d0a54",
   "metadata": {},
   "outputs": [
    {
     "name": "stdout",
     "output_type": "stream",
     "text": [
      "['/work/hyerim/remixIT/DNN-based-Speech-Enhancement-in-the-frequency-domain/data/wav/test/004_20220125094437_FR3_D_sm300_5_8sec.wav', '/work/hyerim/remixIT/DNN-based-Speech-Enhancement-in-the-frequency-domain/data/wav/test/036_20220616104451_BL1_D_sm300_1_8sec.wav', '/work/hyerim/remixIT/DNN-based-Speech-Enhancement-in-the-frequency-domain/data/wav/test/031_20220609110713_FL2_D_sm300_5_8sec.wav', '/work/hyerim/remixIT/DNN-based-Speech-Enhancement-in-the-frequency-domain/data/wav/test/038_20220620134416_BL3_D_sm300_0_8sec.wav', '/work/hyerim/remixIT/DNN-based-Speech-Enhancement-in-the-frequency-domain/data/wav/test/041_20220629111008_FL2_D_sm300_6_8sec.wav', '/work/hyerim/remixIT/DNN-based-Speech-Enhancement-in-the-frequency-domain/data/wav/test/031_20220609110845_FR3_D_sm300_6_8sec.wav', '/work/hyerim/remixIT/DNN-based-Speech-Enhancement-in-the-frequency-domain/data/wav/test/033_20220610141319_FR2_D_sm300_7_8sec.wav', '/work/hyerim/remixIT/DNN-based-Speech-Enhancement-in-the-frequency-domain/data/wav/test/004_20220125100536_BR2_D_sm300_0_8sec.wav', '/work/hyerim/remixIT/DNN-based-Speech-Enhancement-in-the-frequency-domain/data/wav/test/005_20220128103307_BR1_D_sm300_1_8sec.wav', '/work/hyerim/remixIT/DNN-based-Speech-Enhancement-in-the-frequency-domain/data/wav/test/041_20220629111008_FL2_D_sm300_1_8sec.wav', '/work/hyerim/remixIT/DNN-based-Speech-Enhancement-in-the-frequency-domain/data/wav/test/008_20220210143814_BR2_D_sm300_3_8sec.wav', '/work/hyerim/remixIT/DNN-based-Speech-Enhancement-in-the-frequency-domain/data/wav/test/028_20220520110111_BL1_D_sm300_3_8sec.wav', '/work/hyerim/remixIT/DNN-based-Speech-Enhancement-in-the-frequency-domain/data/wav/test/049_20220921114401_BL2_D_sm300_4_8sec.wav', '/work/hyerim/remixIT/DNN-based-Speech-Enhancement-in-the-frequency-domain/data/wav/test/041_20220629105718_FR1_D_sm300_4_8sec.wav', '/work/hyerim/remixIT/DNN-based-Speech-Enhancement-in-the-frequency-domain/data/wav/test/026_20220516115234_BR1_D_sm300_0_8sec.wav', '/work/hyerim/remixIT/DNN-based-Speech-Enhancement-in-the-frequency-domain/data/wav/test/005_20220128101711_FR3_D_sm300_4_8sec.wav', '/work/hyerim/remixIT/DNN-based-Speech-Enhancement-in-the-frequency-domain/data/wav/test/048_20220825143032_BL3_D_sm300_5_8sec.wav', '/work/hyerim/remixIT/DNN-based-Speech-Enhancement-in-the-frequency-domain/data/wav/test/008_20220210142540_FL3_D_sm300_2_8sec.wav', '/work/hyerim/remixIT/DNN-based-Speech-Enhancement-in-the-frequency-domain/data/wav/test/027_20220521230816_BR3_D_sm300_5_8sec.wav', '/work/hyerim/remixIT/DNN-based-Speech-Enhancement-in-the-frequency-domain/data/wav/test/022_20220425140941_BR1_D_sm300_9_8sec.wav', '/work/hyerim/remixIT/DNN-based-Speech-Enhancement-in-the-frequency-domain/data/wav/test/016_20220401145059_BL3_D_sm300_1_8sec.wav', '/work/hyerim/remixIT/DNN-based-Speech-Enhancement-in-the-frequency-domain/data/wav/test/024_20220509150858_BL2_D_sm300_1_8sec.wav', '/work/hyerim/remixIT/DNN-based-Speech-Enhancement-in-the-frequency-domain/data/wav/test/032_20220610093953_BR3_D_sm300_1_8sec.wav', '/work/hyerim/remixIT/DNN-based-Speech-Enhancement-in-the-frequency-domain/data/wav/test/029_20220525113724_FL2_D_sm300_12_8sec.wav', '/work/hyerim/remixIT/DNN-based-Speech-Enhancement-in-the-frequency-domain/data/wav/test/012_20220322104543_FR1_D_sm300_1_8sec.wav', '/work/hyerim/remixIT/DNN-based-Speech-Enhancement-in-the-frequency-domain/data/wav/test/035_20220616100228_BR3_D_sm300_1_8sec.wav', '/work/hyerim/remixIT/DNN-based-Speech-Enhancement-in-the-frequency-domain/data/wav/test/040_20220623103306_BL1_D_sm300_1_8sec.wav', '/work/hyerim/remixIT/DNN-based-Speech-Enhancement-in-the-frequency-domain/data/wav/test/003_20220124142956_FL1_D_sm300_0_8sec.wav', '/work/hyerim/remixIT/DNN-based-Speech-Enhancement-in-the-frequency-domain/data/wav/test/032_20220610100425_FR3_D_sm300_0_8sec.wav', '/work/hyerim/remixIT/DNN-based-Speech-Enhancement-in-the-frequency-domain/data/wav/test/023_20220504111828_BL3_D_sm300_5_8sec.wav', '/work/hyerim/remixIT/DNN-based-Speech-Enhancement-in-the-frequency-domain/data/wav/test/051_20221024154928_FL1_D_sm300_5_8sec.wav', '/work/hyerim/remixIT/DNN-based-Speech-Enhancement-in-the-frequency-domain/data/wav/test/031_20220609102509_BR2_D_sm300_8_8sec.wav', '/work/hyerim/remixIT/DNN-based-Speech-Enhancement-in-the-frequency-domain/data/wav/test/008_20220210143132_BR1_D_sm300_6_8sec.wav', '/work/hyerim/remixIT/DNN-based-Speech-Enhancement-in-the-frequency-domain/data/wav/test/047_20220817100322_FR3_D_sm300_4_8sec.wav', '/work/hyerim/remixIT/DNN-based-Speech-Enhancement-in-the-frequency-domain/data/wav/test/048_20220825142439_BR2_D_sm300_1_8sec.wav', '/work/hyerim/remixIT/DNN-based-Speech-Enhancement-in-the-frequency-domain/data/wav/test/001_20220119093956_BR1_D_sm300_3_8sec.wav', '/work/hyerim/remixIT/DNN-based-Speech-Enhancement-in-the-frequency-domain/data/wav/test/025_20220511120834_BR3_D_sm300_0_8sec.wav', '/work/hyerim/remixIT/DNN-based-Speech-Enhancement-in-the-frequency-domain/data/wav/test/001_20220119092310_FL1_D_sm300_7_8sec.wav', '/work/hyerim/remixIT/DNN-based-Speech-Enhancement-in-the-frequency-domain/data/wav/test/032_20220610095521_FR1_D_sm300_3_8sec.wav', '/work/hyerim/remixIT/DNN-based-Speech-Enhancement-in-the-frequency-domain/data/wav/test/034_20220610145056_FR2_D_sm300_3_8sec.wav', '/work/hyerim/remixIT/DNN-based-Speech-Enhancement-in-the-frequency-domain/data/wav/test/014_20220328160403_BL3_D_sm300_4_8sec.wav', '/work/hyerim/remixIT/DNN-based-Speech-Enhancement-in-the-frequency-domain/data/wav/test/040_20220623103306_BL1_D_sm300_10_8sec.wav', '/work/hyerim/remixIT/DNN-based-Speech-Enhancement-in-the-frequency-domain/data/wav/test/041_20220629110707_FL1_D_sm300_8_8sec.wav', '/work/hyerim/remixIT/DNN-based-Speech-Enhancement-in-the-frequency-domain/data/wav/test/002_20220119144123_FR2_D_sm300_8_8sec.wav', '/work/hyerim/remixIT/DNN-based-Speech-Enhancement-in-the-frequency-domain/data/wav/test/023_20220504112148_BR3_D_sm300_2_8sec.wav', '/work/hyerim/remixIT/DNN-based-Speech-Enhancement-in-the-frequency-domain/data/wav/test/017_20220405093810_FR1_D_sm300_12_8sec.wav', '/work/hyerim/remixIT/DNN-based-Speech-Enhancement-in-the-frequency-domain/data/wav/test/017_20220405094110_FL1_D_sm300_0_8sec.wav', '/work/hyerim/remixIT/DNN-based-Speech-Enhancement-in-the-frequency-domain/data/wav/test/025_20220511123413_FR3_D_sm300_7_8sec.wav', '/work/hyerim/remixIT/DNN-based-Speech-Enhancement-in-the-frequency-domain/data/wav/test/032_20220610094812_BL2_D_sm300_4_8sec.wav', '/work/hyerim/remixIT/DNN-based-Speech-Enhancement-in-the-frequency-domain/data/wav/test/050_20221017155326_BR1_D_sm300_1_8sec.wav', '/work/hyerim/remixIT/DNN-based-Speech-Enhancement-in-the-frequency-domain/data/wav/test/049_20220921112850_FR2_D_sm300_3_8sec.wav', '/work/hyerim/remixIT/DNN-based-Speech-Enhancement-in-the-frequency-domain/data/wav/test/041_20220629105408_BL3_D_sm300_3_8sec.wav', '/work/hyerim/remixIT/DNN-based-Speech-Enhancement-in-the-frequency-domain/data/wav/test/026_20220516121347_BL3_D_sm300_3_8sec.wav', '/work/hyerim/remixIT/DNN-based-Speech-Enhancement-in-the-frequency-domain/data/wav/test/023_20220504105148_FR2_D_sm300_0_8sec.wav', '/work/hyerim/remixIT/DNN-based-Speech-Enhancement-in-the-frequency-domain/data/wav/test/038_20220620134110_BR3_D_sm300_2_8sec.wav', '/work/hyerim/remixIT/DNN-based-Speech-Enhancement-in-the-frequency-domain/data/wav/test/002_20220119145440_FR3_D_sm300_2_8sec.wav', '/work/hyerim/remixIT/DNN-based-Speech-Enhancement-in-the-frequency-domain/data/wav/test/023_20220504111459_BL2_D_sm300_2_8sec.wav', '/work/hyerim/remixIT/DNN-based-Speech-Enhancement-in-the-frequency-domain/data/wav/test/033_20220610141745_FR3_D_sm300_7_8sec.wav', '/work/hyerim/remixIT/DNN-based-Speech-Enhancement-in-the-frequency-domain/data/wav/test/025_20220511122011_FL2_D_sm300_9_8sec.wav', '/work/hyerim/remixIT/DNN-based-Speech-Enhancement-in-the-frequency-domain/data/wav/test/041_20220629111008_FL2_D_sm300_3_8sec.wav', '/work/hyerim/remixIT/DNN-based-Speech-Enhancement-in-the-frequency-domain/data/wav/test/029_20220525112806_BL2_D_sm300_6_8sec.wav', '/work/hyerim/remixIT/DNN-based-Speech-Enhancement-in-the-frequency-domain/data/wav/test/028_20220520103951_FR1_D_sm300_4_8sec.wav', '/work/hyerim/remixIT/DNN-based-Speech-Enhancement-in-the-frequency-domain/data/wav/test/032_20220610095148_BL3_D_sm300_0_8sec.wav', '/work/hyerim/remixIT/DNN-based-Speech-Enhancement-in-the-frequency-domain/data/wav/test/006_20220207112330_BR1_D_sm300_8_8sec.wav', '/work/hyerim/remixIT/DNN-based-Speech-Enhancement-in-the-frequency-domain/data/wav/test/034_20220610145456_FR3_D_sm300_9_8sec.wav', '/work/hyerim/remixIT/DNN-based-Speech-Enhancement-in-the-frequency-domain/data/wav/test/002_20220119145030_FL2_D_sm300_3_8sec.wav', '/work/hyerim/remixIT/DNN-based-Speech-Enhancement-in-the-frequency-domain/data/wav/test/034_20220610143607_FL1_D_sm300_0_8sec.wav', '/work/hyerim/remixIT/DNN-based-Speech-Enhancement-in-the-frequency-domain/data/wav/test/029_20220525113108_BL3_D_sm300_8_8sec.wav', '/work/hyerim/remixIT/DNN-based-Speech-Enhancement-in-the-frequency-domain/data/wav/test/021_20220422135231_FR2_D_sm300_6_8sec.wav', '/work/hyerim/remixIT/DNN-based-Speech-Enhancement-in-the-frequency-domain/data/wav/test/009_20220218103421_BL1_D_sm300_2_8sec.wav', '/work/hyerim/remixIT/DNN-based-Speech-Enhancement-in-the-frequency-domain/data/wav/test/025_20220511121652_FL1_D_sm300_4_8sec.wav', '/work/hyerim/remixIT/DNN-based-Speech-Enhancement-in-the-frequency-domain/data/wav/test/031_20220609104319_BL2_D_sm300_11_8sec.wav', '/work/hyerim/remixIT/DNN-based-Speech-Enhancement-in-the-frequency-domain/data/wav/test/021_20220422135559_FL2_D_sm300_2_8sec.wav', '/work/hyerim/remixIT/DNN-based-Speech-Enhancement-in-the-frequency-domain/data/wav/test/014_20220328154429_BR1_D_sm300_4_8sec.wav', '/work/hyerim/remixIT/DNN-based-Speech-Enhancement-in-the-frequency-domain/data/wav/test/011_20220317105500_FR3_D_sm300_0_8sec.wav', '/work/hyerim/remixIT/DNN-based-Speech-Enhancement-in-the-frequency-domain/data/wav/test/016_20220401145344_BR3_D_sm300_3_8sec.wav', '/work/hyerim/remixIT/DNN-based-Speech-Enhancement-in-the-frequency-domain/data/wav/test/008_20220210142540_FL3_D_sm300_6_8sec.wav', '/work/hyerim/remixIT/DNN-based-Speech-Enhancement-in-the-frequency-domain/data/wav/test/005_20220128100523_FL1_D_sm300_5_8sec.wav', '/work/hyerim/remixIT/DNN-based-Speech-Enhancement-in-the-frequency-domain/data/wav/test/040_20220623105714_FL1_D_sm300_7_8sec.wav', '/work/hyerim/remixIT/DNN-based-Speech-Enhancement-in-the-frequency-domain/data/wav/test/049_20220921113210_FL1_D_sm300_2_8sec.wav', '/work/hyerim/remixIT/DNN-based-Speech-Enhancement-in-the-frequency-domain/data/wav/test/023_20220504112148_BR3_D_sm300_3_8sec.wav', '/work/hyerim/remixIT/DNN-based-Speech-Enhancement-in-the-frequency-domain/data/wav/test/021_20220422140930_BL1_D_sm300_5_8sec.wav', '/work/hyerim/remixIT/DNN-based-Speech-Enhancement-in-the-frequency-domain/data/wav/test/007_20220210111936_FR2_D_sm300_3_8sec.wav', '/work/hyerim/remixIT/DNN-based-Speech-Enhancement-in-the-frequency-domain/data/wav/test/015_20220401102522_FR3_D_sm300_6_8sec.wav', '/work/hyerim/remixIT/DNN-based-Speech-Enhancement-in-the-frequency-domain/data/wav/test/031_20220609105544_FL1_D_sm300_7_8sec.wav', '/work/hyerim/remixIT/DNN-based-Speech-Enhancement-in-the-frequency-domain/data/wav/test/038_20220620133830_BL2_D_sm300_10_8sec.wav', '/work/hyerim/remixIT/DNN-based-Speech-Enhancement-in-the-frequency-domain/data/wav/test/034_20220610151746_BL3_D_sm300_2_8sec.wav', '/work/hyerim/remixIT/DNN-based-Speech-Enhancement-in-the-frequency-domain/data/wav/test/048_20220825141725_FR3_D_sm300_4_8sec.wav', '/work/hyerim/remixIT/DNN-based-Speech-Enhancement-in-the-frequency-domain/data/wav/test/051_20221024155131_FR1_D_sm300_4_8sec.wav', '/work/hyerim/remixIT/DNN-based-Speech-Enhancement-in-the-frequency-domain/data/wav/test/040_20220623110003_FL2_D_sm300_7_8sec.wav', '/work/hyerim/remixIT/DNN-based-Speech-Enhancement-in-the-frequency-domain/data/wav/test/048_20220825141531_FR2_D_sm300_1_8sec.wav', '/work/hyerim/remixIT/DNN-based-Speech-Enhancement-in-the-frequency-domain/data/wav/test/019_20220413113120_BL3_D_sm300_6_8sec.wav', '/work/hyerim/remixIT/DNN-based-Speech-Enhancement-in-the-frequency-domain/data/wav/test/022_20220425141233_BL2_D_sm300_12_8sec.wav', '/work/hyerim/remixIT/DNN-based-Speech-Enhancement-in-the-frequency-domain/data/wav/test/035_20220616100551_BL3_D_sm300_8_8sec.wav', '/work/hyerim/remixIT/DNN-based-Speech-Enhancement-in-the-frequency-domain/data/wav/test/032_20220610094440_BR2_D_sm300_6_8sec.wav', '/work/hyerim/remixIT/DNN-based-Speech-Enhancement-in-the-frequency-domain/data/wav/test/028_20220520105730_BR1_D_sm300_2_8sec.wav', '/work/hyerim/remixIT/DNN-based-Speech-Enhancement-in-the-frequency-domain/data/wav/test/001_20220413092727_FR1_D_sm300_11_8sec.wav', '/work/hyerim/remixIT/DNN-based-Speech-Enhancement-in-the-frequency-domain/data/wav/test/025_20220511120337_BL2_D_sm300_1_8sec.wav', '/work/hyerim/remixIT/DNN-based-Speech-Enhancement-in-the-frequency-domain/data/wav/test/022_20220425140648_BL1_D_sm300_6_8sec.wav', '/work/hyerim/remixIT/DNN-based-Speech-Enhancement-in-the-frequency-domain/data/wav/test/038_20220620133830_BL2_D_sm300_9_8sec.wav', '/work/hyerim/remixIT/DNN-based-Speech-Enhancement-in-the-frequency-domain/data/wav/test/009_20220218104748_BL2_D_sm300_10_8sec.wav', '/work/hyerim/remixIT/DNN-based-Speech-Enhancement-in-the-frequency-domain/data/wav/test/022_20220425140941_BR1_D_sm300_11_8sec.wav', '/work/hyerim/remixIT/DNN-based-Speech-Enhancement-in-the-frequency-domain/data/wav/test/010_20220316095600_BL1_D_sm300_2_8sec.wav', '/work/hyerim/remixIT/DNN-based-Speech-Enhancement-in-the-frequency-domain/data/wav/test/033_20220610132732_BR1_D_sm300_0_8sec.wav', '/work/hyerim/remixIT/DNN-based-Speech-Enhancement-in-the-frequency-domain/data/wav/test/006_20220207112635_BL2_D_sm300_4_8sec.wav', '/work/hyerim/remixIT/DNN-based-Speech-Enhancement-in-the-frequency-domain/data/wav/test/006_20220207112025_BL1_D_sm300_1_8sec.wav', '/work/hyerim/remixIT/DNN-based-Speech-Enhancement-in-the-frequency-domain/data/wav/test/022_20220425140648_BL1_D_sm300_1_8sec.wav', '/work/hyerim/remixIT/DNN-based-Speech-Enhancement-in-the-frequency-domain/data/wav/test/015_20220401104025_BL2_D_sm300_0_8sec.wav', '/work/hyerim/remixIT/DNN-based-Speech-Enhancement-in-the-frequency-domain/data/wav/test/050_20221017152927_FL1_D_sm300_0_8sec.wav', '/work/hyerim/remixIT/DNN-based-Speech-Enhancement-in-the-frequency-domain/data/wav/test/043_20220803095322_FR1_D_sm300_1_8sec.wav', '/work/hyerim/remixIT/DNN-based-Speech-Enhancement-in-the-frequency-domain/data/wav/test/012_20220322110130_FR3_D_sm300_4_8sec.wav', '/work/hyerim/remixIT/DNN-based-Speech-Enhancement-in-the-frequency-domain/data/wav/test/009_20220218100946_FR2_D_sm300_1_8sec.wav', '/work/hyerim/remixIT/DNN-based-Speech-Enhancement-in-the-frequency-domain/data/wav/test/018_20220411150523_FL2_D_sm300_2_8sec.wav', '/work/hyerim/remixIT/DNN-based-Speech-Enhancement-in-the-frequency-domain/data/wav/test/038_20220620135230_FR3_D_sm300_10_8sec.wav', '/work/hyerim/remixIT/DNN-based-Speech-Enhancement-in-the-frequency-domain/data/wav/test/001_20220119093203_FL2_D_sm300_3_8sec.wav', '/work/hyerim/remixIT/DNN-based-Speech-Enhancement-in-the-frequency-domain/data/wav/test/005_20220128103307_BR1_D_sm300_0_8sec.wav', '/work/hyerim/remixIT/DNN-based-Speech-Enhancement-in-the-frequency-domain/data/wav/test/013_20220325113056_BL3_D_sm300_0_8sec.wav', '/work/hyerim/remixIT/DNN-based-Speech-Enhancement-in-the-frequency-domain/data/wav/test/046_20220810094737_BL3_D_sm300_4_8sec.wav', '/work/hyerim/remixIT/DNN-based-Speech-Enhancement-in-the-frequency-domain/data/wav/test/011_20220317104407_FL1_D_sm300_7_8sec.wav', '/work/hyerim/remixIT/DNN-based-Speech-Enhancement-in-the-frequency-domain/data/wav/test/001_20220406094547_BR3_D_sm300_6_8sec.wav', '/work/hyerim/remixIT/DNN-based-Speech-Enhancement-in-the-frequency-domain/data/wav/test/022_20220425140648_BL1_D_sm300_4_8sec.wav', '/work/hyerim/remixIT/DNN-based-Speech-Enhancement-in-the-frequency-domain/data/wav/test/039_20220622092557_BL3_D_sm300_6_8sec.wav', '/work/hyerim/remixIT/DNN-based-Speech-Enhancement-in-the-frequency-domain/data/wav/test/029_20220525114719_FR2_D_sm300_3_8sec.wav', '/work/hyerim/remixIT/DNN-based-Speech-Enhancement-in-the-frequency-domain/data/wav/test/030_20220608135755_FL2_D_sm300_8_8sec.wav', '/work/hyerim/remixIT/DNN-based-Speech-Enhancement-in-the-frequency-domain/data/wav/test/044_20220804141348_FR3_D_sm300_1_8sec.wav', '/work/hyerim/remixIT/DNN-based-Speech-Enhancement-in-the-frequency-domain/data/wav/test/010_20220316094230_FR2_D_sm300_3_8sec.wav', '/work/hyerim/remixIT/DNN-based-Speech-Enhancement-in-the-frequency-domain/data/wav/test/011_20220317105610_FR3_D_sm300_0_8sec.wav', '/work/hyerim/remixIT/DNN-based-Speech-Enhancement-in-the-frequency-domain/data/wav/test/045_20220808114402_BL2_D_sm300_0_8sec.wav', '/work/hyerim/remixIT/DNN-based-Speech-Enhancement-in-the-frequency-domain/data/wav/test/021_20220422140405_FL3_D_sm300_5_8sec.wav', '/work/hyerim/remixIT/DNN-based-Speech-Enhancement-in-the-frequency-domain/data/wav/test/045_20220808114402_BL2_D_sm300_1_8sec.wav', '/work/hyerim/remixIT/DNN-based-Speech-Enhancement-in-the-frequency-domain/data/wav/test/035_20220616102204_FL2_D_sm300_2_8sec.wav', '/work/hyerim/remixIT/DNN-based-Speech-Enhancement-in-the-frequency-domain/data/wav/test/009_20220218105704_BL3_D_sm300_1_8sec.wav', '/work/hyerim/remixIT/DNN-based-Speech-Enhancement-in-the-frequency-domain/data/wav/test/040_20220623103306_BL1_D_sm300_3_8sec.wav', '/work/hyerim/remixIT/DNN-based-Speech-Enhancement-in-the-frequency-domain/data/wav/test/018_20220411145531_FR3_D_sm300_2_8sec.wav', '/work/hyerim/remixIT/DNN-based-Speech-Enhancement-in-the-frequency-domain/data/wav/test/030_20220608141152_FR3_D_sm300_1_8sec.wav', '/work/hyerim/remixIT/DNN-based-Speech-Enhancement-in-the-frequency-domain/data/wav/test/008_20220210142238_FR3_D_sm300_9_8sec.wav', '/work/hyerim/remixIT/DNN-based-Speech-Enhancement-in-the-frequency-domain/data/wav/test/037_20220617104626_BL1_D_sm300_4_8sec.wav', '/work/hyerim/remixIT/DNN-based-Speech-Enhancement-in-the-frequency-domain/data/wav/test/039_20220622091237_BL1_D_sm300_8_8sec.wav', '/work/hyerim/remixIT/DNN-based-Speech-Enhancement-in-the-frequency-domain/data/wav/test/030_20220608134239_BR3_D_sm300_3_8sec.wav', '/work/hyerim/remixIT/DNN-based-Speech-Enhancement-in-the-frequency-domain/data/wav/test/015_20220401104025_BL2_D_sm300_3_8sec.wav', '/work/hyerim/remixIT/DNN-based-Speech-Enhancement-in-the-frequency-domain/data/wav/test/023_20220504105917_FR3_D_sm300_4_8sec.wav', '/work/hyerim/remixIT/DNN-based-Speech-Enhancement-in-the-frequency-domain/data/wav/test/026_20220516114901_FL3_D_sm300_5_8sec.wav', '/work/hyerim/remixIT/DNN-based-Speech-Enhancement-in-the-frequency-domain/data/wav/test/001_20220406093445_BL2_D_sm300_7_8sec.wav', '/work/hyerim/remixIT/DNN-based-Speech-Enhancement-in-the-frequency-domain/data/wav/test/017_20220405094407_FR2_D_sm300_2_8sec.wav', '/work/hyerim/remixIT/DNN-based-Speech-Enhancement-in-the-frequency-domain/data/wav/test/021_20220422141821_BR2_D_sm300_1_8sec.wav', '/work/hyerim/remixIT/DNN-based-Speech-Enhancement-in-the-frequency-domain/data/wav/test/006_20220207113253_BR2_D_sm300_7_8sec.wav', '/work/hyerim/remixIT/DNN-based-Speech-Enhancement-in-the-frequency-domain/data/wav/test/029_20220525114719_FR2_D_sm300_4_8sec.wav', '/work/hyerim/remixIT/DNN-based-Speech-Enhancement-in-the-frequency-domain/data/wav/test/031_20220609104319_BL2_D_sm300_1_8sec.wav', '/work/hyerim/remixIT/DNN-based-Speech-Enhancement-in-the-frequency-domain/data/wav/test/029_20220525114353_FR1_D_sm300_6_8sec.wav', '/work/hyerim/remixIT/DNN-based-Speech-Enhancement-in-the-frequency-domain/data/wav/test/009_20220218105221_BR2_D_sm300_4_8sec.wav', '/work/hyerim/remixIT/DNN-based-Speech-Enhancement-in-the-frequency-domain/data/wav/test/031_20220609111158_FL3_D_sm300_0_8sec.wav', '/work/hyerim/remixIT/DNN-based-Speech-Enhancement-in-the-frequency-domain/data/wav/test/015_20220401104636_BL3_D_sm300_7_8sec.wav', '/work/hyerim/remixIT/DNN-based-Speech-Enhancement-in-the-frequency-domain/data/wav/test/011_20220317110436_FL3_D_sm300_3_8sec.wav', '/work/hyerim/remixIT/DNN-based-Speech-Enhancement-in-the-frequency-domain/data/wav/test/008_20220210144502_BL3_D_sm300_0_8sec.wav', '/work/hyerim/remixIT/DNN-based-Speech-Enhancement-in-the-frequency-domain/data/wav/test/041_20220629111321_FL3_D_sm300_7_8sec.wav', '/work/hyerim/remixIT/DNN-based-Speech-Enhancement-in-the-frequency-domain/data/wav/test/050_20221017152927_FL1_D_sm300_1_8sec.wav', '/work/hyerim/remixIT/DNN-based-Speech-Enhancement-in-the-frequency-domain/data/wav/test/008_20220210142238_FR3_D_sm300_8_8sec.wav', '/work/hyerim/remixIT/DNN-based-Speech-Enhancement-in-the-frequency-domain/data/wav/test/039_20220622095559_FL3_D_sm300_3_8sec.wav', '/work/hyerim/remixIT/DNN-based-Speech-Enhancement-in-the-frequency-domain/data/wav/test/026_20220516113523_FR2_D_sm300_7_8sec.wav', '/work/hyerim/remixIT/DNN-based-Speech-Enhancement-in-the-frequency-domain/data/wav/test/033_20220610134912_FL1_D_sm300_2_8sec.wav', '/work/hyerim/remixIT/DNN-based-Speech-Enhancement-in-the-frequency-domain/data/wav/test/050_20221017154338_FR1_D_sm300_1_8sec.wav', '/work/hyerim/remixIT/DNN-based-Speech-Enhancement-in-the-frequency-domain/data/wav/test/041_20220629103833_BL1_D_sm300_1_8sec.wav', '/work/hyerim/remixIT/DNN-based-Speech-Enhancement-in-the-frequency-domain/data/wav/test/001_20220119095248_BR3_D_sm300_5_8sec.wav', '/work/hyerim/remixIT/DNN-based-Speech-Enhancement-in-the-frequency-domain/data/wav/test/022_20220425135844_FR3_D_sm300_2_8sec.wav', '/work/hyerim/remixIT/DNN-based-Speech-Enhancement-in-the-frequency-domain/data/wav/test/029_20220525114028_FL3_D_sm300_7_8sec.wav', '/work/hyerim/remixIT/DNN-based-Speech-Enhancement-in-the-frequency-domain/data/wav/test/029_20220525111812_BR2_D_sm300_4_8sec.wav', '/work/hyerim/remixIT/DNN-based-Speech-Enhancement-in-the-frequency-domain/data/wav/test/051_20221024154928_FL1_D_sm300_1_8sec.wav', '/work/hyerim/remixIT/DNN-based-Speech-Enhancement-in-the-frequency-domain/data/wav/test/046_20220810093843_BR1_D_sm300_4_8sec.wav', '/work/hyerim/remixIT/DNN-based-Speech-Enhancement-in-the-frequency-domain/data/wav/test/022_20220425141233_BL2_D_sm300_17_8sec.wav', '/work/hyerim/remixIT/DNN-based-Speech-Enhancement-in-the-frequency-domain/data/wav/test/013_20220325114019_BR3_D_sm300_4_8sec.wav', '/work/hyerim/remixIT/DNN-based-Speech-Enhancement-in-the-frequency-domain/data/wav/test/002_20220119153024_BR3_D_sm300_0_8sec.wav', '/work/hyerim/remixIT/DNN-based-Speech-Enhancement-in-the-frequency-domain/data/wav/test/008_20220210143132_BR1_D_sm300_5_8sec.wav', '/work/hyerim/remixIT/DNN-based-Speech-Enhancement-in-the-frequency-domain/data/wav/test/041_20220629104203_BR2_D_sm300_3_8sec.wav', '/work/hyerim/remixIT/DNN-based-Speech-Enhancement-in-the-frequency-domain/data/wav/test/018_20220411151438_BL1_D_sm300_6_8sec.wav', '/work/hyerim/remixIT/DNN-based-Speech-Enhancement-in-the-frequency-domain/data/wav/test/004_20220125093825_FL2_D_sm300_7_8sec.wav', '/work/hyerim/remixIT/DNN-based-Speech-Enhancement-in-the-frequency-domain/data/wav/test/016_20220401142144_FL1_D_sm300_9_8sec.wav', '/work/hyerim/remixIT/DNN-based-Speech-Enhancement-in-the-frequency-domain/data/wav/test/022_20220425140941_BR1_D_sm300_16_8sec.wav', '/work/hyerim/remixIT/DNN-based-Speech-Enhancement-in-the-frequency-domain/data/wav/test/020_20220419123415_FR2_D_sm300_0_8sec.wav', '/work/hyerim/remixIT/DNN-based-Speech-Enhancement-in-the-frequency-domain/data/wav/test/027_20220517122306_FL2_D_sm300_1_8sec.wav', '/work/hyerim/remixIT/DNN-based-Speech-Enhancement-in-the-frequency-domain/data/wav/test/015_20220401100853_FR1_D_sm300_3_8sec.wav', '/work/hyerim/remixIT/DNN-based-Speech-Enhancement-in-the-frequency-domain/data/wav/test/018_20220411145152_FR2_D_sm300_6_8sec.wav', '/work/hyerim/remixIT/DNN-based-Speech-Enhancement-in-the-frequency-domain/data/wav/test/018_20220411144835_FR1_D_sm300_10_8sec.wav', '/work/hyerim/remixIT/DNN-based-Speech-Enhancement-in-the-frequency-domain/data/wav/test/007_20220210114124_BL2_D_sm300_4_8sec.wav', '/work/hyerim/remixIT/DNN-based-Speech-Enhancement-in-the-frequency-domain/data/wav/test/050_20221017155835_BL2_D_sm300_1_8sec.wav', '/work/hyerim/remixIT/DNN-based-Speech-Enhancement-in-the-frequency-domain/data/wav/test/022_20220425134953_FL1_D_sm300_2_8sec.wav', '/work/hyerim/remixIT/DNN-based-Speech-Enhancement-in-the-frequency-domain/data/wav/test/033_20220610140504_FR1_D_sm300_3_8sec.wav', '/work/hyerim/remixIT/DNN-based-Speech-Enhancement-in-the-frequency-domain/data/wav/test/006_20220207112635_BL2_D_sm300_2_8sec.wav', '/work/hyerim/remixIT/DNN-based-Speech-Enhancement-in-the-frequency-domain/data/wav/test/046_20220810094142_BR3_D_sm300_1_8sec.wav', '/work/hyerim/remixIT/DNN-based-Speech-Enhancement-in-the-frequency-domain/data/wav/test/051_20221024155937_FR2_D_sm300_2_8sec.wav', '/work/hyerim/remixIT/DNN-based-Speech-Enhancement-in-the-frequency-domain/data/wav/test/003_20220124150134_BL2_D_sm300_1_8sec.wav', '/work/hyerim/remixIT/DNN-based-Speech-Enhancement-in-the-frequency-domain/data/wav/test/015_20220401101721_FR2_D_sm300_4_8sec.wav', '/work/hyerim/remixIT/DNN-based-Speech-Enhancement-in-the-frequency-domain/data/wav/test/045_20220808114226_BL1_D_sm300_2_8sec.wav', '/work/hyerim/remixIT/DNN-based-Speech-Enhancement-in-the-frequency-domain/data/wav/test/008_20220210140701_FR1_D_sm300_3_8sec.wav', '/work/hyerim/remixIT/DNN-based-Speech-Enhancement-in-the-frequency-domain/data/wav/test/023_20220504104135_FL2_D_sm300_2_8sec.wav', '/work/hyerim/remixIT/DNN-based-Speech-Enhancement-in-the-frequency-domain/data/wav/test/029_20220525111812_BR2_D_sm300_0_8sec.wav', '/work/hyerim/remixIT/DNN-based-Speech-Enhancement-in-the-frequency-domain/data/wav/test/034_20220610145056_FR2_D_sm300_6_8sec.wav', '/work/hyerim/remixIT/DNN-based-Speech-Enhancement-in-the-frequency-domain/data/wav/test/027_20220517121725_FR2_D_sm300_2_8sec.wav', '/work/hyerim/remixIT/DNN-based-Speech-Enhancement-in-the-frequency-domain/data/wav/test/017_20220405100524_BL2_D_sm300_8_8sec.wav', '/work/hyerim/remixIT/DNN-based-Speech-Enhancement-in-the-frequency-domain/data/wav/test/027_20220517122306_FL2_D_sm300_4_8sec.wav', '/work/hyerim/remixIT/DNN-based-Speech-Enhancement-in-the-frequency-domain/data/wav/test/020_20220419122032_BR3_D_sm300_5_8sec.wav', '/work/hyerim/remixIT/DNN-based-Speech-Enhancement-in-the-frequency-domain/data/wav/test/021_20220422140930_BL1_D_sm300_7_8sec.wav', '/work/hyerim/remixIT/DNN-based-Speech-Enhancement-in-the-frequency-domain/data/wav/test/026_20220516115549_BL1_D_sm300_1_8sec.wav', '/work/hyerim/remixIT/DNN-based-Speech-Enhancement-in-the-frequency-domain/data/wav/test/014_20220328160403_BL3_D_sm300_9_8sec.wav', '/work/hyerim/remixIT/DNN-based-Speech-Enhancement-in-the-frequency-domain/data/wav/test/051_20221024155347_FL2_D_sm300_2_8sec.wav', '/work/hyerim/remixIT/DNN-based-Speech-Enhancement-in-the-frequency-domain/data/wav/test/022_20220425134317_FR1_D_sm300_11_8sec.wav', '/work/hyerim/remixIT/DNN-based-Speech-Enhancement-in-the-frequency-domain/data/wav/test/004_20220125093825_FL2_D_sm300_0_8sec.wav', '/work/hyerim/remixIT/DNN-based-Speech-Enhancement-in-the-frequency-domain/data/wav/test/029_20220525113724_FL2_D_sm300_0_8sec.wav', '/work/hyerim/remixIT/DNN-based-Speech-Enhancement-in-the-frequency-domain/data/wav/test/050_20221017155835_BL2_D_sm300_0_8sec.wav', '/work/hyerim/remixIT/DNN-based-Speech-Enhancement-in-the-frequency-domain/data/wav/test/040_20220623110251_FL3_D_sm300_2_8sec.wav', '/work/hyerim/remixIT/DNN-based-Speech-Enhancement-in-the-frequency-domain/data/wav/test/033_20220610132732_BR1_D_sm300_5_8sec.wav', '/work/hyerim/remixIT/DNN-based-Speech-Enhancement-in-the-frequency-domain/data/wav/test/038_20220620133302_BL1_D_sm300_0_8sec.wav', '/work/hyerim/remixIT/DNN-based-Speech-Enhancement-in-the-frequency-domain/data/wav/test/026_20220516113154_FL1_D_sm300_10_8sec.wav', '/work/hyerim/remixIT/DNN-based-Speech-Enhancement-in-the-frequency-domain/data/wav/test/016_20220401144137_BR1_D_sm300_4_8sec.wav', '/work/hyerim/remixIT/DNN-based-Speech-Enhancement-in-the-frequency-domain/data/wav/test/051_20221024155740_FL3_D_sm300_1_8sec.wav', '/work/hyerim/remixIT/DNN-based-Speech-Enhancement-in-the-frequency-domain/data/wav/test/017_20220405095025_FL2_D_sm300_3_8sec.wav', '/work/hyerim/remixIT/DNN-based-Speech-Enhancement-in-the-frequency-domain/data/wav/test/012_20220322110543_FL3_D_sm300_3_8sec.wav', '/work/hyerim/remixIT/DNN-based-Speech-Enhancement-in-the-frequency-domain/data/wav/test/049_20220921113210_FL1_D_sm300_5_8sec.wav', '/work/hyerim/remixIT/DNN-based-Speech-Enhancement-in-the-frequency-domain/data/wav/test/004_20220125095820_BR1_D_sm300_1_8sec.wav', '/work/hyerim/remixIT/DNN-based-Speech-Enhancement-in-the-frequency-domain/data/wav/test/022_20220425135844_FR3_D_sm300_1_8sec.wav', '/work/hyerim/remixIT/DNN-based-Speech-Enhancement-in-the-frequency-domain/data/wav/test/035_20220616094533_BR1_D_sm300_8_8sec.wav', '/work/hyerim/remixIT/DNN-based-Speech-Enhancement-in-the-frequency-domain/data/wav/test/020_20220419124351_FR3_D_sm300_5_8sec.wav', '/work/hyerim/remixIT/DNN-based-Speech-Enhancement-in-the-frequency-domain/data/wav/test/029_20220525113424_FL1_D_sm300_3_8sec.wav', '/work/hyerim/remixIT/DNN-based-Speech-Enhancement-in-the-frequency-domain/data/wav/test/039_20220622091237_BL1_D_sm300_7_8sec.wav', '/work/hyerim/remixIT/DNN-based-Speech-Enhancement-in-the-frequency-domain/data/wav/test/029_20220525111449_BR1_D_sm300_3_8sec.wav', '/work/hyerim/remixIT/DNN-based-Speech-Enhancement-in-the-frequency-domain/data/wav/test/011_20220317104407_FL1_D_sm300_4_8sec.wav', '/work/hyerim/remixIT/DNN-based-Speech-Enhancement-in-the-frequency-domain/data/wav/test/035_20220616094533_BR1_D_sm300_10_8sec.wav', '/work/hyerim/remixIT/DNN-based-Speech-Enhancement-in-the-frequency-domain/data/wav/test/014_20220328154850_BL1_D_sm300_10_8sec.wav', '/work/hyerim/remixIT/DNN-based-Speech-Enhancement-in-the-frequency-domain/data/wav/test/022_20220425141613_BR2_D_sm300_9_8sec.wav', '/work/hyerim/remixIT/DNN-based-Speech-Enhancement-in-the-frequency-domain/data/wav/test/018_20220411151808_BR2_D_sm300_4_8sec.wav', '/work/hyerim/remixIT/DNN-based-Speech-Enhancement-in-the-frequency-domain/data/wav/test/029_20220525113108_BL3_D_sm300_1_8sec.wav', '/work/hyerim/remixIT/DNN-based-Speech-Enhancement-in-the-frequency-domain/data/wav/test/005_20220128101711_FR3_D_sm300_6_8sec.wav', '/work/hyerim/remixIT/DNN-based-Speech-Enhancement-in-the-frequency-domain/data/wav/test/014_20220328160403_BL3_D_sm300_3_8sec.wav', '/work/hyerim/remixIT/DNN-based-Speech-Enhancement-in-the-frequency-domain/data/wav/test/033_20220610141319_FR2_D_sm300_3_8sec.wav', '/work/hyerim/remixIT/DNN-based-Speech-Enhancement-in-the-frequency-domain/data/wav/test/022_20220425135248_FR2_D_sm300_9_8sec.wav', '/work/hyerim/remixIT/DNN-based-Speech-Enhancement-in-the-frequency-domain/data/wav/test/040_20220623103549_BR2_D_sm300_11_8sec.wav', '/work/hyerim/remixIT/DNN-based-Speech-Enhancement-in-the-frequency-domain/data/wav/test/002_20220119144123_FR2_D_sm300_3_8sec.wav', '/work/hyerim/remixIT/DNN-based-Speech-Enhancement-in-the-frequency-domain/data/wav/test/031_20220609105544_FL1_D_sm300_0_8sec.wav', '/work/hyerim/remixIT/DNN-based-Speech-Enhancement-in-the-frequency-domain/data/wav/test/021_20220422140930_BL1_D_sm300_2_8sec.wav', '/work/hyerim/remixIT/DNN-based-Speech-Enhancement-in-the-frequency-domain/data/wav/test/039_20220622091237_BL1_D_sm300_1_8sec.wav', '/work/hyerim/remixIT/DNN-based-Speech-Enhancement-in-the-frequency-domain/data/wav/test/007_20220210112246_FL2_D_sm300_2_8sec.wav', '/work/hyerim/remixIT/DNN-based-Speech-Enhancement-in-the-frequency-domain/data/wav/test/051_20221024160116_FR3_D_sm300_1_8sec.wav', '/work/hyerim/remixIT/DNN-based-Speech-Enhancement-in-the-frequency-domain/data/wav/test/002_20220119145030_FL2_D_sm300_4_8sec.wav', '/work/hyerim/remixIT/DNN-based-Speech-Enhancement-in-the-frequency-domain/data/wav/test/034_20220610145056_FR2_D_sm300_4_8sec.wav', '/work/hyerim/remixIT/DNN-based-Speech-Enhancement-in-the-frequency-domain/data/wav/test/047_20220817101024_BL1_D_sm300_4_8sec.wav', '/work/hyerim/remixIT/DNN-based-Speech-Enhancement-in-the-frequency-domain/data/wav/test/026_20220516121044_BR3_D_sm300_2_8sec.wav', '/work/hyerim/remixIT/DNN-based-Speech-Enhancement-in-the-frequency-domain/data/wav/test/026_20220516114901_FL3_D_sm300_9_8sec.wav', '/work/hyerim/remixIT/DNN-based-Speech-Enhancement-in-the-frequency-domain/data/wav/test/032_20220610093258_BR1_D_sm300_1_8sec.wav', '/work/hyerim/remixIT/DNN-based-Speech-Enhancement-in-the-frequency-domain/data/wav/test/031_20220609104655_BL3_D_sm300_1_8sec.wav', '/work/hyerim/remixIT/DNN-based-Speech-Enhancement-in-the-frequency-domain/data/wav/test/004_20220125095530_BL1_D_sm300_1_8sec.wav', '/work/hyerim/remixIT/DNN-based-Speech-Enhancement-in-the-frequency-domain/data/wav/test/008_20220210142238_FR3_D_sm300_6_8sec.wav', '/work/hyerim/remixIT/DNN-based-Speech-Enhancement-in-the-frequency-domain/data/wav/test/044_20220804143151_BL2_D_sm300_0_8sec.wav', '/work/hyerim/remixIT/DNN-based-Speech-Enhancement-in-the-frequency-domain/data/wav/test/030_20220608135452_FL1_D_sm300_4_8sec.wav', '/work/hyerim/remixIT/DNN-based-Speech-Enhancement-in-the-frequency-domain/data/wav/test/034_20220610144243_FL2_D_sm300_5_8sec.wav', '/work/hyerim/remixIT/DNN-based-Speech-Enhancement-in-the-frequency-domain/data/wav/test/049_20220921112850_FR2_D_sm300_0_8sec.wav', '/work/hyerim/remixIT/DNN-based-Speech-Enhancement-in-the-frequency-domain/data/wav/test/040_20220623110003_FL2_D_sm300_4_8sec.wav', '/work/hyerim/remixIT/DNN-based-Speech-Enhancement-in-the-frequency-domain/data/wav/test/010_20220316095923_BR1_D_sm300_4_8sec.wav', '/work/hyerim/remixIT/DNN-based-Speech-Enhancement-in-the-frequency-domain/data/wav/test/036_20220616111146_FR1_D_sm300_1_8sec.wav', '/work/hyerim/remixIT/DNN-based-Speech-Enhancement-in-the-frequency-domain/data/wav/test/034_20220610145456_FR3_D_sm300_0_8sec.wav', '/work/hyerim/remixIT/DNN-based-Speech-Enhancement-in-the-frequency-domain/data/wav/test/038_20220620134714_FR1_D_sm300_1_8sec.wav', '/work/hyerim/remixIT/DNN-based-Speech-Enhancement-in-the-frequency-domain/data/wav/test/043_20220803095322_FR1_D_sm300_0_8sec.wav', '/work/hyerim/remixIT/DNN-based-Speech-Enhancement-in-the-frequency-domain/data/wav/test/050_20221017153744_FL3_D_sm300_0_8sec.wav', '/work/hyerim/remixIT/DNN-based-Speech-Enhancement-in-the-frequency-domain/data/wav/test/036_20220616105425_BL2_D_sm300_2_8sec.wav', '/work/hyerim/remixIT/DNN-based-Speech-Enhancement-in-the-frequency-domain/data/wav/test/016_20220401144137_BR1_D_sm300_10_8sec.wav', '/work/hyerim/remixIT/DNN-based-Speech-Enhancement-in-the-frequency-domain/data/wav/test/041_20220629105051_BR3_D_sm300_4_8sec.wav', '/work/hyerim/remixIT/DNN-based-Speech-Enhancement-in-the-frequency-domain/data/wav/test/038_20220620133550_BR2_D_sm300_3_8sec.wav', '/work/hyerim/remixIT/DNN-based-Speech-Enhancement-in-the-frequency-domain/data/wav/test/024_20220509144924_FR3_D_sm300_0_8sec.wav', '/work/hyerim/remixIT/DNN-based-Speech-Enhancement-in-the-frequency-domain/data/wav/test/009_20220218105704_BL3_D_sm300_7_8sec.wav', '/work/hyerim/remixIT/DNN-based-Speech-Enhancement-in-the-frequency-domain/data/wav/test/028_20220520111043_BR3_D_sm300_1_8sec.wav', '/work/hyerim/remixIT/DNN-based-Speech-Enhancement-in-the-frequency-domain/data/wav/test/025_20220511121329_BL3_D_sm300_14_8sec.wav', '/work/hyerim/remixIT/DNN-based-Speech-Enhancement-in-the-frequency-domain/data/wav/test/008_20220210142540_FL3_D_sm300_0_8sec.wav', '/work/hyerim/remixIT/DNN-based-Speech-Enhancement-in-the-frequency-domain/data/wav/test/014_20220328153426_FR3_D_sm300_3_8sec.wav', '/work/hyerim/remixIT/DNN-based-Speech-Enhancement-in-the-frequency-domain/data/wav/test/022_20220425141613_BR2_D_sm300_0_8sec.wav', '/work/hyerim/remixIT/DNN-based-Speech-Enhancement-in-the-frequency-domain/data/wav/test/049_20220921113718_BR1_D_sm300_1_8sec.wav', '/work/hyerim/remixIT/DNN-based-Speech-Enhancement-in-the-frequency-domain/data/wav/test/043_20220803101039_BR2_D_sm300_0_8sec.wav', '/work/hyerim/remixIT/DNN-based-Speech-Enhancement-in-the-frequency-domain/data/wav/test/010_20220316094230_FR2_D_sm300_7_8sec.wav', '/work/hyerim/remixIT/DNN-based-Speech-Enhancement-in-the-frequency-domain/data/wav/test/049_20220921114401_BL2_D_sm300_0_8sec.wav', '/work/hyerim/remixIT/DNN-based-Speech-Enhancement-in-the-frequency-domain/data/wav/test/021_20220422141821_BR2_D_sm300_4_8sec.wav', '/work/hyerim/remixIT/DNN-based-Speech-Enhancement-in-the-frequency-domain/data/wav/test/018_20220411151808_BR2_D_sm300_1_8sec.wav', '/work/hyerim/remixIT/DNN-based-Speech-Enhancement-in-the-frequency-domain/data/wav/test/013_20220325112742_BR2_D_sm300_0_8sec.wav', '/work/hyerim/remixIT/DNN-based-Speech-Enhancement-in-the-frequency-domain/data/wav/test/038_20220620133302_BL1_D_sm300_12_8sec.wav', '/work/hyerim/remixIT/DNN-based-Speech-Enhancement-in-the-frequency-domain/data/wav/test/043_20220803101755_BR1_D_sm300_3_8sec.wav', '/work/hyerim/remixIT/DNN-based-Speech-Enhancement-in-the-frequency-domain/data/wav/test/033_20220610141319_FR2_D_sm300_5_8sec.wav', '/work/hyerim/remixIT/DNN-based-Speech-Enhancement-in-the-frequency-domain/data/wav/test/016_20220401142435_FR2_D_sm300_7_8sec.wav', '/work/hyerim/remixIT/DNN-based-Speech-Enhancement-in-the-frequency-domain/data/wav/test/031_20220609103858_BL1_D_sm300_10_8sec.wav', '/work/hyerim/remixIT/DNN-based-Speech-Enhancement-in-the-frequency-domain/data/wav/test/045_20220808114912_BR3_D_sm300_0_8sec.wav', '/work/hyerim/remixIT/DNN-based-Speech-Enhancement-in-the-frequency-domain/data/wav/test/027_20220521225650_FR3_D_sm300_3_8sec.wav', '/work/hyerim/remixIT/DNN-based-Speech-Enhancement-in-the-frequency-domain/data/wav/test/037_20220617110537_BL2_D_sm300_2_8sec.wav', '/work/hyerim/remixIT/DNN-based-Speech-Enhancement-in-the-frequency-domain/data/wav/test/022_20220425140349_FL3_D_sm300_2_8sec.wav', '/work/hyerim/remixIT/DNN-based-Speech-Enhancement-in-the-frequency-domain/data/wav/test/001_20220413092727_FR1_D_sm300_9_8sec.wav', '/work/hyerim/remixIT/DNN-based-Speech-Enhancement-in-the-frequency-domain/data/wav/test/039_20220622094250_FL1_D_sm300_2_8sec.wav', '/work/hyerim/remixIT/DNN-based-Speech-Enhancement-in-the-frequency-domain/data/wav/test/037_20220617104321_BR1_D_sm300_3_8sec.wav', '/work/hyerim/remixIT/DNN-based-Speech-Enhancement-in-the-frequency-domain/data/wav/test/010_20220316094758_FL3_D_sm300_5_8sec.wav', '/work/hyerim/remixIT/DNN-based-Speech-Enhancement-in-the-frequency-domain/data/wav/test/012_20220322105608_FL2_D_sm300_4_8sec.wav', '/work/hyerim/remixIT/DNN-based-Speech-Enhancement-in-the-frequency-domain/data/wav/test/047_20220817100715_BR2_D_sm300_0_8sec.wav', '/work/hyerim/remixIT/DNN-based-Speech-Enhancement-in-the-frequency-domain/data/wav/test/025_20220511120834_BR3_D_sm300_4_8sec.wav', '/work/hyerim/remixIT/DNN-based-Speech-Enhancement-in-the-frequency-domain/data/wav/test/004_20220125094437_FR3_D_sm300_3_8sec.wav', '/work/hyerim/remixIT/DNN-based-Speech-Enhancement-in-the-frequency-domain/data/wav/test/039_20220622091831_BL2_D_sm300_2_8sec.wav', '/work/hyerim/remixIT/DNN-based-Speech-Enhancement-in-the-frequency-domain/data/wav/test/005_20220128103612_BL2_D_sm300_8_8sec.wav', '/work/hyerim/remixIT/DNN-based-Speech-Enhancement-in-the-frequency-domain/data/wav/test/006_20220207112330_BR1_D_sm300_4_8sec.wav', '/work/hyerim/remixIT/DNN-based-Speech-Enhancement-in-the-frequency-domain/data/wav/test/048_20220825141725_FR3_D_sm300_1_8sec.wav', '/work/hyerim/remixIT/DNN-based-Speech-Enhancement-in-the-frequency-domain/data/wav/test/021_20220422135559_FL2_D_sm300_3_8sec.wav', '/work/hyerim/remixIT/DNN-based-Speech-Enhancement-in-the-frequency-domain/data/wav/test/008_20220210143500_BL2_D_sm300_5_8sec.wav', '/work/hyerim/remixIT/DNN-based-Speech-Enhancement-in-the-frequency-domain/data/wav/test/022_20220425134317_FR1_D_sm300_0_8sec.wav', '/work/hyerim/remixIT/DNN-based-Speech-Enhancement-in-the-frequency-domain/data/wav/test/029_20220525114353_FR1_D_sm300_0_8sec.wav', '/work/hyerim/remixIT/DNN-based-Speech-Enhancement-in-the-frequency-domain/data/wav/test/040_20220623105412_FR3_D_sm300_3_8sec.wav', '/work/hyerim/remixIT/DNN-based-Speech-Enhancement-in-the-frequency-domain/data/wav/test/022_20220425134317_FR1_D_sm300_6_8sec.wav', '/work/hyerim/remixIT/DNN-based-Speech-Enhancement-in-the-frequency-domain/data/wav/test/012_20220322111658_BL2_D_sm300_6_8sec.wav', '/work/hyerim/remixIT/DNN-based-Speech-Enhancement-in-the-frequency-domain/data/wav/test/043_20220803094721_FL1_D_sm300_1_8sec.wav', '/work/hyerim/remixIT/DNN-based-Speech-Enhancement-in-the-frequency-domain/data/wav/test/002_20220119145030_FL2_D_sm300_0_8sec.wav', '/work/hyerim/remixIT/DNN-based-Speech-Enhancement-in-the-frequency-domain/data/wav/test/008_20220210143500_BL2_D_sm300_0_8sec.wav', '/work/hyerim/remixIT/DNN-based-Speech-Enhancement-in-the-frequency-domain/data/wav/test/017_20220405101059_BL3_D_sm300_3_8sec.wav', '/work/hyerim/remixIT/DNN-based-Speech-Enhancement-in-the-frequency-domain/data/wav/test/040_20220623105412_FR3_D_sm300_14_8sec.wav', '/work/hyerim/remixIT/DNN-based-Speech-Enhancement-in-the-frequency-domain/data/wav/test/039_20220622095559_FL3_D_sm300_2_8sec.wav', '/work/hyerim/remixIT/DNN-based-Speech-Enhancement-in-the-frequency-domain/data/wav/test/019_20220413113120_BL3_D_sm300_8_8sec.wav', '/work/hyerim/remixIT/DNN-based-Speech-Enhancement-in-the-frequency-domain/data/wav/test/011_20220317110436_FL3_D_sm300_1_8sec.wav', '/work/hyerim/remixIT/DNN-based-Speech-Enhancement-in-the-frequency-domain/data/wav/test/033_20220610132732_BR1_D_sm300_9_8sec.wav', '/work/hyerim/remixIT/DNN-based-Speech-Enhancement-in-the-frequency-domain/data/wav/test/020_20220419122732_FR1_D_sm300_5_8sec.wav', '/work/hyerim/remixIT/DNN-based-Speech-Enhancement-in-the-frequency-domain/data/wav/test/042_20220629114807_FL1_D_sm300_0_8sec.wav', '/work/hyerim/remixIT/DNN-based-Speech-Enhancement-in-the-frequency-domain/data/wav/test/008_20220210143500_BL2_D_sm300_6_8sec.wav', '/work/hyerim/remixIT/DNN-based-Speech-Enhancement-in-the-frequency-domain/data/wav/test/016_20220401141845_FR1_D_sm300_6_8sec.wav', '/work/hyerim/remixIT/DNN-based-Speech-Enhancement-in-the-frequency-domain/data/wav/test/008_20220210142540_FL3_D_sm300_3_8sec.wav', '/work/hyerim/remixIT/DNN-based-Speech-Enhancement-in-the-frequency-domain/data/wav/test/001_20220119091828_FR1_D_sm300_10_8sec.wav', '/work/hyerim/remixIT/DNN-based-Speech-Enhancement-in-the-frequency-domain/data/wav/test/020_20220419120638_BL2_D_sm300_7_8sec.wav', '/work/hyerim/remixIT/DNN-based-Speech-Enhancement-in-the-frequency-domain/data/wav/test/015_20220401102851_FL3_D_sm300_1_8sec.wav', '/work/hyerim/remixIT/DNN-based-Speech-Enhancement-in-the-frequency-domain/data/wav/test/037_20220617102848_FR1_D_sm300_3_8sec.wav', '/work/hyerim/remixIT/DNN-based-Speech-Enhancement-in-the-frequency-domain/data/wav/test/004_20220125093825_FL2_D_sm300_6_8sec.wav', '/work/hyerim/remixIT/DNN-based-Speech-Enhancement-in-the-frequency-domain/data/wav/test/025_20220511123413_FR3_D_sm300_8_8sec.wav', '/work/hyerim/remixIT/DNN-based-Speech-Enhancement-in-the-frequency-domain/data/wav/test/043_20220803101755_BR1_D_sm300_2_8sec.wav', '/work/hyerim/remixIT/DNN-based-Speech-Enhancement-in-the-frequency-domain/data/wav/test/024_20220509151907_BR3_D_sm300_3_8sec.wav', '/work/hyerim/remixIT/DNN-based-Speech-Enhancement-in-the-frequency-domain/data/wav/test/001_20220119094945_BL2_D_sm300_1_8sec.wav', '/work/hyerim/remixIT/DNN-based-Speech-Enhancement-in-the-frequency-domain/data/wav/test/038_20220620133550_BR2_D_sm300_1_8sec.wav', '/work/hyerim/remixIT/DNN-based-Speech-Enhancement-in-the-frequency-domain/data/wav/test/009_20220218105704_BL3_D_sm300_6_8sec.wav', '/work/hyerim/remixIT/DNN-based-Speech-Enhancement-in-the-frequency-domain/data/wav/test/051_20221024160714_BL1_D_sm300_1_8sec.wav', '/work/hyerim/remixIT/DNN-based-Speech-Enhancement-in-the-frequency-domain/data/wav/test/035_20220616100551_BL3_D_sm300_5_8sec.wav', '/work/hyerim/remixIT/DNN-based-Speech-Enhancement-in-the-frequency-domain/data/wav/test/015_20220401102851_FL3_D_sm300_4_8sec.wav', '/work/hyerim/remixIT/DNN-based-Speech-Enhancement-in-the-frequency-domain/data/wav/test/019_20220413104537_FR2_D_sm300_1_8sec.wav', '/work/hyerim/remixIT/DNN-based-Speech-Enhancement-in-the-frequency-domain/data/wav/test/012_20220322104923_FL1_D_sm300_1_8sec.wav', '/work/hyerim/remixIT/DNN-based-Speech-Enhancement-in-the-frequency-domain/data/wav/test/049_20220921114055_BR3_D_sm300_2_8sec.wav', '/work/hyerim/remixIT/DNN-based-Speech-Enhancement-in-the-frequency-domain/data/wav/test/005_20220128100523_FL1_D_sm300_11_8sec.wav', '/work/hyerim/remixIT/DNN-based-Speech-Enhancement-in-the-frequency-domain/data/wav/test/021_20220422135559_FL2_D_sm300_1_8sec.wav', '/work/hyerim/remixIT/DNN-based-Speech-Enhancement-in-the-frequency-domain/data/wav/test/033_20220610140022_FL3_D_sm300_2_8sec.wav', '/work/hyerim/remixIT/DNN-based-Speech-Enhancement-in-the-frequency-domain/data/wav/test/039_20220622093342_FR2_D_sm300_3_8sec.wav', '/work/hyerim/remixIT/DNN-based-Speech-Enhancement-in-the-frequency-domain/data/wav/test/025_20220511115437_BR1_D_sm300_9_8sec.wav', '/work/hyerim/remixIT/DNN-based-Speech-Enhancement-in-the-frequency-domain/data/wav/test/002_20220119144123_FR2_D_sm300_2_8sec.wav', '/work/hyerim/remixIT/DNN-based-Speech-Enhancement-in-the-frequency-domain/data/wav/test/007_20220210112854_FR3_D_sm300_0_8sec.wav', '/work/hyerim/remixIT/DNN-based-Speech-Enhancement-in-the-frequency-domain/data/wav/test/009_20220218110135_BR3_D_sm300_8_8sec.wav', '/work/hyerim/remixIT/DNN-based-Speech-Enhancement-in-the-frequency-domain/data/wav/test/044_20220804141348_FR3_D_sm300_5_8sec.wav', '/work/hyerim/remixIT/DNN-based-Speech-Enhancement-in-the-frequency-domain/data/wav/test/026_20220516113523_FR2_D_sm300_5_8sec.wav', '/work/hyerim/remixIT/DNN-based-Speech-Enhancement-in-the-frequency-domain/data/wav/test/048_20220825142038_BR1_D_sm300_1_8sec.wav', '/work/hyerim/remixIT/DNN-based-Speech-Enhancement-in-the-frequency-domain/data/wav/test/011_20220317104407_FL1_D_sm300_1_8sec.wav', '/work/hyerim/remixIT/DNN-based-Speech-Enhancement-in-the-frequency-domain/data/wav/test/021_20220422141225_BR1_D_sm300_3_8sec.wav', '/work/hyerim/remixIT/DNN-based-Speech-Enhancement-in-the-frequency-domain/data/wav/test/020_20220419122032_BR3_D_sm300_6_8sec.wav', '/work/hyerim/remixIT/DNN-based-Speech-Enhancement-in-the-frequency-domain/data/wav/test/014_20220328154850_BL1_D_sm300_5_8sec.wav', '/work/hyerim/remixIT/DNN-based-Speech-Enhancement-in-the-frequency-domain/data/wav/test/014_20220328154111_FL3_D_sm300_2_8sec.wav', '/work/hyerim/remixIT/DNN-based-Speech-Enhancement-in-the-frequency-domain/data/wav/test/038_20220620133830_BL2_D_sm300_11_8sec.wav', '/work/hyerim/remixIT/DNN-based-Speech-Enhancement-in-the-frequency-domain/data/wav/test/040_20220623105055_FR2_D_sm300_3_8sec.wav', '/work/hyerim/remixIT/DNN-based-Speech-Enhancement-in-the-frequency-domain/data/wav/test/035_20220616094533_BR1_D_sm300_1_8sec.wav', '/work/hyerim/remixIT/DNN-based-Speech-Enhancement-in-the-frequency-domain/data/wav/test/005_20220128103612_BL2_D_sm300_10_8sec.wav', '/work/hyerim/remixIT/DNN-based-Speech-Enhancement-in-the-frequency-domain/data/wav/test/025_20220511123111_FR2_D_sm300_2_8sec.wav', '/work/hyerim/remixIT/DNN-based-Speech-Enhancement-in-the-frequency-domain/data/wav/test/004_20220125094437_FR3_D_sm300_7_8sec.wav', '/work/hyerim/remixIT/DNN-based-Speech-Enhancement-in-the-frequency-domain/data/wav/test/011_20220317104030_FR1_D_sm300_4_8sec.wav', '/work/hyerim/remixIT/DNN-based-Speech-Enhancement-in-the-frequency-domain/data/wav/test/050_20221017154145_FR1_D_sm300_0_8sec.wav', '/work/hyerim/remixIT/DNN-based-Speech-Enhancement-in-the-frequency-domain/data/wav/test/018_20220411152518_BL3_D_sm300_1_8sec.wav', '/work/hyerim/remixIT/DNN-based-Speech-Enhancement-in-the-frequency-domain/data/wav/test/017_20220405094407_FR2_D_sm300_7_8sec.wav', '/work/hyerim/remixIT/DNN-based-Speech-Enhancement-in-the-frequency-domain/data/wav/test/006_20220207112330_BR1_D_sm300_0_8sec.wav', '/work/hyerim/remixIT/DNN-based-Speech-Enhancement-in-the-frequency-domain/data/wav/test/020_20220419120638_BL2_D_sm300_4_8sec.wav', '/work/hyerim/remixIT/DNN-based-Speech-Enhancement-in-the-frequency-domain/data/wav/test/002_20220119151651_BR1_D_sm300_6_8sec.wav', '/work/hyerim/remixIT/DNN-based-Speech-Enhancement-in-the-frequency-domain/data/wav/test/001_20220406094547_BR3_D_sm300_4_8sec.wav', '/work/hyerim/remixIT/DNN-based-Speech-Enhancement-in-the-frequency-domain/data/wav/test/016_20220401144428_BL2_D_sm300_1_8sec.wav', '/work/hyerim/remixIT/DNN-based-Speech-Enhancement-in-the-frequency-domain/data/wav/test/029_20220525114353_FR1_D_sm300_4_8sec.wav', '/work/hyerim/remixIT/DNN-based-Speech-Enhancement-in-the-frequency-domain/data/wav/test/035_20220616101211_FR2_D_sm300_3_8sec.wav', '/work/hyerim/remixIT/DNN-based-Speech-Enhancement-in-the-frequency-domain/data/wav/test/041_20220629105051_BR3_D_sm300_6_8sec.wav', '/work/hyerim/remixIT/DNN-based-Speech-Enhancement-in-the-frequency-domain/data/wav/test/033_20220610134912_FL1_D_sm300_0_8sec.wav', '/work/hyerim/remixIT/DNN-based-Speech-Enhancement-in-the-frequency-domain/data/wav/test/041_20220629105051_BR3_D_sm300_5_8sec.wav', '/work/hyerim/remixIT/DNN-based-Speech-Enhancement-in-the-frequency-domain/data/wav/test/034_20220610143607_FL1_D_sm300_5_8sec.wav', '/work/hyerim/remixIT/DNN-based-Speech-Enhancement-in-the-frequency-domain/data/wav/test/022_20220425140941_BR1_D_sm300_5_8sec.wav', '/work/hyerim/remixIT/DNN-based-Speech-Enhancement-in-the-frequency-domain/data/wav/test/012_20220322111403_BR2_D_sm300_2_8sec.wav', '/work/hyerim/remixIT/DNN-based-Speech-Enhancement-in-the-frequency-domain/data/wav/test/044_20220811160036_FL3_D_sm300_2_8sec.wav', '/work/hyerim/remixIT/DNN-based-Speech-Enhancement-in-the-frequency-domain/data/wav/test/048_20220825141144_FL3_D_sm300_1_8sec.wav', '/work/hyerim/remixIT/DNN-based-Speech-Enhancement-in-the-frequency-domain/data/wav/test/046_20220810092536_FR1_D_sm300_1_8sec.wav', '/work/hyerim/remixIT/DNN-based-Speech-Enhancement-in-the-frequency-domain/data/wav/test/034_20220610144742_FR1_D_sm300_10_8sec.wav', '/work/hyerim/remixIT/DNN-based-Speech-Enhancement-in-the-frequency-domain/data/wav/test/034_20220610145856_BR1_D_sm300_1_8sec.wav', '/work/hyerim/remixIT/DNN-based-Speech-Enhancement-in-the-frequency-domain/data/wav/test/034_20220610151346_BR3_D_sm300_6_8sec.wav', '/work/hyerim/remixIT/DNN-based-Speech-Enhancement-in-the-frequency-domain/data/wav/test/043_20220803102115_BL1_D_sm300_4_8sec.wav', '/work/hyerim/remixIT/DNN-based-Speech-Enhancement-in-the-frequency-domain/data/wav/test/009_20220218101507_FL2_D_sm300_9_8sec.wav', '/work/hyerim/remixIT/DNN-based-Speech-Enhancement-in-the-frequency-domain/data/wav/test/050_20221017155326_BR1_D_sm300_0_8sec.wav', '/work/hyerim/remixIT/DNN-based-Speech-Enhancement-in-the-frequency-domain/data/wav/test/031_20220609105544_FL1_D_sm300_10_8sec.wav', '/work/hyerim/remixIT/DNN-based-Speech-Enhancement-in-the-frequency-domain/data/wav/test/019_20220413110101_FL1_D_sm300_0_8sec.wav', '/work/hyerim/remixIT/DNN-based-Speech-Enhancement-in-the-frequency-domain/data/wav/test/049_20220921114055_BR3_D_sm300_4_8sec.wav', '/work/hyerim/remixIT/DNN-based-Speech-Enhancement-in-the-frequency-domain/data/wav/test/037_20220617104321_BR1_D_sm300_1_8sec.wav', '/work/hyerim/remixIT/DNN-based-Speech-Enhancement-in-the-frequency-domain/data/wav/test/033_20220610135442_FL2_D_sm300_5_8sec.wav', '/work/hyerim/remixIT/DNN-based-Speech-Enhancement-in-the-frequency-domain/data/wav/test/051_20221024154928_FL1_D_sm300_2_8sec.wav', '/work/hyerim/remixIT/DNN-based-Speech-Enhancement-in-the-frequency-domain/data/wav/test/020_20220419121746_BL3_D_sm300_0_8sec.wav', '/work/hyerim/remixIT/DNN-based-Speech-Enhancement-in-the-frequency-domain/data/wav/test/005_20220128100834_FR2_D_sm300_9_8sec.wav', '/work/hyerim/remixIT/DNN-based-Speech-Enhancement-in-the-frequency-domain/data/wav/test/020_20220419124351_FR3_D_sm300_4_8sec.wav', '/work/hyerim/remixIT/DNN-based-Speech-Enhancement-in-the-frequency-domain/data/wav/test/018_20220411151438_BL1_D_sm300_2_8sec.wav', '/work/hyerim/remixIT/DNN-based-Speech-Enhancement-in-the-frequency-domain/data/wav/test/001_20220119095557_BL3_D_sm300_1_8sec.wav', '/work/hyerim/remixIT/DNN-based-Speech-Enhancement-in-the-frequency-domain/data/wav/test/044_20220811160322_BL3_D_sm300_5_8sec.wav', '/work/hyerim/remixIT/DNN-based-Speech-Enhancement-in-the-frequency-domain/data/wav/test/009_20220218104020_BR1_D_sm300_8_8sec.wav', '/work/hyerim/remixIT/DNN-based-Speech-Enhancement-in-the-frequency-domain/data/wav/test/048_20220825142302_BL1_D_sm300_3_8sec.wav', '/work/hyerim/remixIT/DNN-based-Speech-Enhancement-in-the-frequency-domain/data/wav/test/021_20220422134527_FR1_D_sm300_1_8sec.wav', '/work/hyerim/remixIT/DNN-based-Speech-Enhancement-in-the-frequency-domain/data/wav/test/030_20220608135755_FL2_D_sm300_7_8sec.wav', '/work/hyerim/remixIT/DNN-based-Speech-Enhancement-in-the-frequency-domain/data/wav/test/037_20220617102848_FR1_D_sm300_2_8sec.wav', '/work/hyerim/remixIT/DNN-based-Speech-Enhancement-in-the-frequency-domain/data/wav/test/036_20220616111146_FR1_D_sm300_5_8sec.wav', '/work/hyerim/remixIT/DNN-based-Speech-Enhancement-in-the-frequency-domain/data/wav/test/035_20220616100228_BR3_D_sm300_3_8sec.wav', '/work/hyerim/remixIT/DNN-based-Speech-Enhancement-in-the-frequency-domain/data/wav/test/045_20220808113713_FL2_D_sm300_0_8sec.wav', '/work/hyerim/remixIT/DNN-based-Speech-Enhancement-in-the-frequency-domain/data/wav/test/025_20220511121329_BL3_D_sm300_2_8sec.wav', '/work/hyerim/remixIT/DNN-based-Speech-Enhancement-in-the-frequency-domain/data/wav/test/031_20220609104655_BL3_D_sm300_3_8sec.wav', '/work/hyerim/remixIT/DNN-based-Speech-Enhancement-in-the-frequency-domain/data/wav/test/051_20221024155740_FL3_D_sm300_2_8sec.wav', '/work/hyerim/remixIT/DNN-based-Speech-Enhancement-in-the-frequency-domain/data/wav/test/019_20220413110101_FL1_D_sm300_2_8sec.wav', '/work/hyerim/remixIT/DNN-based-Speech-Enhancement-in-the-frequency-domain/data/wav/test/035_20220616095918_BL2_D_sm300_10_8sec.wav', '/work/hyerim/remixIT/DNN-based-Speech-Enhancement-in-the-frequency-domain/data/wav/test/049_20220921113025_FR3_D_sm300_6_8sec.wav', '/work/hyerim/remixIT/DNN-based-Speech-Enhancement-in-the-frequency-domain/data/wav/test/001_20220413093100_FL1_D_sm300_2_8sec.wav', '/work/hyerim/remixIT/DNN-based-Speech-Enhancement-in-the-frequency-domain/data/wav/test/001_20220413093100_FL1_D_sm300_1_8sec.wav', '/work/hyerim/remixIT/DNN-based-Speech-Enhancement-in-the-frequency-domain/data/wav/test/038_20220620140318_FL3_D_sm300_6_8sec.wav', '/work/hyerim/remixIT/DNN-based-Speech-Enhancement-in-the-frequency-domain/data/wav/test/011_20220317105610_FR3_D_sm300_1_8sec.wav', '/work/hyerim/remixIT/DNN-based-Speech-Enhancement-in-the-frequency-domain/data/wav/test/044_20220804141348_FR3_D_sm300_4_8sec.wav', '/work/hyerim/remixIT/DNN-based-Speech-Enhancement-in-the-frequency-domain/data/wav/test/035_20220616094533_BR1_D_sm300_7_8sec.wav', '/work/hyerim/remixIT/DNN-based-Speech-Enhancement-in-the-frequency-domain/data/wav/test/009_20220218104020_BR1_D_sm300_10_8sec.wav', '/work/hyerim/remixIT/DNN-based-Speech-Enhancement-in-the-frequency-domain/data/wav/test/039_20220622094635_FL2_D_sm300_1_8sec.wav', '/work/hyerim/remixIT/DNN-based-Speech-Enhancement-in-the-frequency-domain/data/wav/test/019_20220413104537_FR2_D_sm300_3_8sec.wav', '/work/hyerim/remixIT/DNN-based-Speech-Enhancement-in-the-frequency-domain/data/wav/test/020_20220419120025_BL1_D_sm300_4_8sec.wav', '/work/hyerim/remixIT/DNN-based-Speech-Enhancement-in-the-frequency-domain/data/wav/test/047_20220817100538_BR1_D_sm300_4_8sec.wav', '/work/hyerim/remixIT/DNN-based-Speech-Enhancement-in-the-frequency-domain/data/wav/test/017_20220405094407_FR2_D_sm300_5_8sec.wav', '/work/hyerim/remixIT/DNN-based-Speech-Enhancement-in-the-frequency-domain/data/wav/test/010_20220316101307_BL3_D_sm300_9_8sec.wav', '/work/hyerim/remixIT/DNN-based-Speech-Enhancement-in-the-frequency-domain/data/wav/test/002_20220119144123_FR2_D_sm300_6_8sec.wav', '/work/hyerim/remixIT/DNN-based-Speech-Enhancement-in-the-frequency-domain/data/wav/test/032_20220610094440_BR2_D_sm300_3_8sec.wav', '/work/hyerim/remixIT/DNN-based-Speech-Enhancement-in-the-frequency-domain/data/wav/test/025_20220511122653_FR1_D_sm300_3_8sec.wav', '/work/hyerim/remixIT/DNN-based-Speech-Enhancement-in-the-frequency-domain/data/wav/test/040_20220623103854_BL2_D_sm300_7_8sec.wav', '/work/hyerim/remixIT/DNN-based-Speech-Enhancement-in-the-frequency-domain/data/wav/test/001_20220413092727_FR1_D_sm300_10_8sec.wav', '/work/hyerim/remixIT/DNN-based-Speech-Enhancement-in-the-frequency-domain/data/wav/test/001_20220119091828_FR1_D_sm300_4_8sec.wav', '/work/hyerim/remixIT/DNN-based-Speech-Enhancement-in-the-frequency-domain/data/wav/test/038_20220620134714_FR1_D_sm300_8_8sec.wav', '/work/hyerim/remixIT/DNN-based-Speech-Enhancement-in-the-frequency-domain/data/wav/test/024_20220509150231_BL1_D_sm300_7_8sec.wav', '/work/hyerim/remixIT/DNN-based-Speech-Enhancement-in-the-frequency-domain/data/wav/test/033_20220610133735_BL2_D_sm300_6_8sec.wav', '/work/hyerim/remixIT/DNN-based-Speech-Enhancement-in-the-frequency-domain/data/wav/test/033_20220610141319_FR2_D_sm300_4_8sec.wav', '/work/hyerim/remixIT/DNN-based-Speech-Enhancement-in-the-frequency-domain/data/wav/test/039_20220622091237_BL1_D_sm300_10_8sec.wav', '/work/hyerim/remixIT/DNN-based-Speech-Enhancement-in-the-frequency-domain/data/wav/test/050_20221017153259_FL2_D_sm300_1_8sec.wav', '/work/hyerim/remixIT/DNN-based-Speech-Enhancement-in-the-frequency-domain/data/wav/test/051_20221024160922_BR2_D_sm300_0_8sec.wav', '/work/hyerim/remixIT/DNN-based-Speech-Enhancement-in-the-frequency-domain/data/wav/test/034_20220610143607_FL1_D_sm300_3_8sec.wav', '/work/hyerim/remixIT/DNN-based-Speech-Enhancement-in-the-frequency-domain/data/wav/test/029_20220525112454_BL1_D_sm300_6_8sec.wav', '/work/hyerim/remixIT/DNN-based-Speech-Enhancement-in-the-frequency-domain/data/wav/test/020_20220419124351_FR3_D_sm300_1_8sec.wav', '/work/hyerim/remixIT/DNN-based-Speech-Enhancement-in-the-frequency-domain/data/wav/test/036_20220616112236_FR3_D_sm300_0_8sec.wav', '/work/hyerim/remixIT/DNN-based-Speech-Enhancement-in-the-frequency-domain/data/wav/test/047_20220817100014_FR1_D_sm300_5_8sec.wav', '/work/hyerim/remixIT/DNN-based-Speech-Enhancement-in-the-frequency-domain/data/wav/test/033_20220610135442_FL2_D_sm300_6_8sec.wav', '/work/hyerim/remixIT/DNN-based-Speech-Enhancement-in-the-frequency-domain/data/wav/test/010_20220316100953_BR2_D_sm300_0_8sec.wav', '/work/hyerim/remixIT/DNN-based-Speech-Enhancement-in-the-frequency-domain/data/wav/test/008_20220210144502_BL3_D_sm300_2_8sec.wav', '/work/hyerim/remixIT/DNN-based-Speech-Enhancement-in-the-frequency-domain/data/wav/test/014_20220328155526_BL2_D_sm300_6_8sec.wav', '/work/hyerim/remixIT/DNN-based-Speech-Enhancement-in-the-frequency-domain/data/wav/test/007_20220210111129_FR1_D_sm300_7_8sec.wav', '/work/hyerim/remixIT/DNN-based-Speech-Enhancement-in-the-frequency-domain/data/wav/test/041_20220629104203_BR2_D_sm300_1_8sec.wav', '/work/hyerim/remixIT/DNN-based-Speech-Enhancement-in-the-frequency-domain/data/wav/test/029_20220525114353_FR1_D_sm300_5_8sec.wav', '/work/hyerim/remixIT/DNN-based-Speech-Enhancement-in-the-frequency-domain/data/wav/test/039_20220622093055_FR1_D_sm300_5_8sec.wav', '/work/hyerim/remixIT/DNN-based-Speech-Enhancement-in-the-frequency-domain/data/wav/test/028_20220520103951_FR1_D_sm300_5_8sec.wav', '/work/hyerim/remixIT/DNN-based-Speech-Enhancement-in-the-frequency-domain/data/wav/test/022_20220425142202_BR3_D_sm300_7_8sec.wav', '/work/hyerim/remixIT/DNN-based-Speech-Enhancement-in-the-frequency-domain/data/wav/test/017_20220405100524_BL2_D_sm300_2_8sec.wav', '/work/hyerim/remixIT/DNN-based-Speech-Enhancement-in-the-frequency-domain/data/wav/test/012_20220322105251_FR2_D_sm300_3_8sec.wav']\n"
     ]
    }
   ],
   "source": [
    "print(f\"{clean_files}\")"
   ]
  },
  {
   "cell_type": "code",
   "execution_count": 34,
   "id": "d7bfeecf-3901-4ccd-bf69-f54b1466334e",
   "metadata": {},
   "outputs": [
    {
     "name": "stdout",
     "output_type": "stream",
     "text": [
      "-10db avg_pesq 4.452638683738289 avg_stoi 0.918940964385552\n",
      "-5db avg_pesq 4.503876230218908 avg_stoi 0.9509601992313866\n",
      "0db avg_pesq 4.5313138353955615 avg_stoi 0.9725537117323357\n",
      "5db avg_pesq 4.504775116993831 avg_stoi 0.9764882545219015\n",
      "10db avg_pesq 4.384898802998301 avg_stoi 0.9318057586340003\n"
     ]
    }
   ],
   "source": [
    "\n",
    "\n",
    "model.eval()\n",
    "fs = 16000\n",
    "\n",
    "\n",
    "for db in [\"-10db\", \"-5db\", \"0db\", \"5db\", \"10db\"]:\n",
    "\n",
    "    batch_num = 0\n",
    "\n",
    "    folder_path = f\"/work/hyerim/remixIT/DNN-based-Speech-Enhancement-in-the-frequency-domain/data/noisy/{db}/test\"\n",
    "    noisy_files = [os.path.join(folder_path, f)\n",
    "                   for f in os.listdir(folder_path) if f.endswith('.wav')]\n",
    "\n",
    "    avg_pesq_score = 0\n",
    "    avg_stoi_score = 0\n",
    "\n",
    "    with torch.no_grad():\n",
    "        for index, clean_file in enumerate(clean_files):\n",
    "\n",
    "            batch_num += 1\n",
    "\n",
    "            noisy_file = noisy_files[index]\n",
    "\n",
    "            if os.path.basename(clean_file) != os.path.basename(noisy_file):\n",
    "                print(f\"Not matched {clean_file} {noisy_file}\")\n",
    "                continue\n",
    "\n",
    "            inputs, _ = librosa.load(noisy_file, sr=16000)\n",
    "            targets, _ = librosa.load(clean_file, sr=16000)\n",
    "\n",
    "            inputs = torch.Tensor(inputs).unsqueeze(dim=0).cuda()\n",
    "            targets = torch.Tensor(targets).unsqueeze(dim=0).cuda()\n",
    "\n",
    "            _, _, outputs = model(inputs, targets)\n",
    "\n",
    "            # estimate the output speech with pesq and stoi\n",
    "            estimated_wavs = outputs.cpu().detach().numpy()\n",
    "            clean_wavs = targets.cpu().detach().numpy()\n",
    "\n",
    "            pesq_score = cal_pesq(fs, estimated_wavs, clean_wavs)\n",
    "            stoi_score = cal_stoi(fs, estimated_wavs, clean_wavs)\n",
    "\n",
    "            # pesq: 0.1 better / stoi: 0.01 better\n",
    "            # for i in range(len(stoi)):\n",
    "            #     f_score.write('PESQ {:.6f} | STOI {:.6f}\\n'.format(pesq[i], stoi[i]))\n",
    "\n",
    "            avg_stoi_score += stoi_score[0]\n",
    "            avg_pesq_score += pesq_score[0]\n",
    "\n",
    "        # save the samples to tensorboard\n",
    "        # if epoch % 10 == 0:\n",
    "        #     writer.log_wav(inputs[0], targets[0], outputs[0], epoch)\n",
    "\n",
    "        avg_pesq_score /= batch_num\n",
    "        avg_stoi_score /= batch_num\n",
    "\n",
    "        print(f\"{db} avg_pesq {avg_pesq_score} avg_stoi {avg_stoi_score}\")"
   ]
  },
  {
   "cell_type": "code",
   "execution_count": null,
   "id": "324fb27b",
   "metadata": {},
   "outputs": [
    {
     "name": "stdout",
     "output_type": "stream",
     "text": [
      "-10db avg_pesq 4.452638683738289 avg_stoi 0.918940964385552\n",
      "-5db avg_pesq 4.503876230218908 avg_stoi 0.9509601992313866\n",
      "0db avg_pesq 4.5313138353955615 avg_stoi 0.9725537117323357\n",
      "5db avg_pesq 4.504775116993831 avg_stoi 0.9764882545219015\n",
      "10db avg_pesq 4.384898802998301 avg_stoi 0.9318057586340003\n"
     ]
    }
   ],
   "source": [
    "\n",
    "\n",
    "model.eval()\n",
    "fs = 16000\n",
    "\n",
    "\n",
    "for db in [\"-10db\", \"-5db\", \"0db\", \"5db\", \"10db\"]:\n",
    "\n",
    "    batch_num = 0\n",
    "\n",
    "    folder_path = f\"/work/hyerim/remixIT/DNN-based-Speech-Enhancement-in-the-frequency-domain/data/noisy/{db}/test\"\n",
    "    noisy_files = [os.path.join(folder_path, f)\n",
    "                   for f in os.listdir(folder_path) if f.endswith('.wav')]\n",
    "\n",
    "    avg_pesq_score = 0\n",
    "    avg_stoi_score = 0\n",
    "\n",
    "    with torch.no_grad():\n",
    "        for index, clean_file in enumerate(clean_files):\n",
    "\n",
    "            batch_num += 1\n",
    "\n",
    "            noisy_file = noisy_files[index]\n",
    "\n",
    "            if os.path.basename(clean_file) != os.path.basename(noisy_file):\n",
    "                print(f\"Not matched {clean_file} {noisy_file}\")\n",
    "                continue\n",
    "\n",
    "            inputs, _ = librosa.load(noisy_file, sr=16000)\n",
    "            targets, _ = librosa.load(clean_file, sr=16000)\n",
    "\n",
    "            inputs = torch.Tensor(inputs).unsqueeze(dim=0).cuda()\n",
    "            targets = torch.Tensor(targets).unsqueeze(dim=0).cuda()\n",
    "\n",
    "            _, _, outputs = model(inputs, targets)\n",
    "\n",
    "            # estimate the output speech with pesq and stoi\n",
    "            estimated_wavs = outputs.cpu().detach().numpy()\n",
    "            clean_wavs = targets.cpu().detach().numpy()\n",
    "\n",
    "            pesq_score = cal_pesq(fs, estimated_wavs, clean_wavs)\n",
    "            stoi_score = cal_stoi(fs, estimated_wavs, clean_wavs)\n",
    "\n",
    "            # pesq: 0.1 better / stoi: 0.01 better\n",
    "            # for i in range(len(stoi)):\n",
    "            #     f_score.write('PESQ {:.6f} | STOI {:.6f}\\n'.format(pesq[i], stoi[i]))\n",
    "\n",
    "            avg_stoi_score += stoi_score[0]\n",
    "            avg_pesq_score += pesq_score[0]\n",
    "\n",
    "        # save the samples to tensorboard\n",
    "        # if epoch % 10 == 0:\n",
    "        #     writer.log_wav(inputs[0], targets[0], outputs[0], epoch)\n",
    "\n",
    "        avg_pesq_score /= batch_num\n",
    "        avg_stoi_score /= batch_num\n",
    "\n",
    "        print(f\"{db} avg_pesq {avg_pesq_score} avg_stoi {avg_stoi_score}\")"
   ]
  },
  {
   "cell_type": "code",
   "execution_count": null,
   "id": "ee144ab4-1741-4a63-8bed-6c258bb6a8c1",
   "metadata": {},
   "outputs": [],
   "source": []
  }
 ],
 "metadata": {
  "kernelspec": {
   "display_name": "ss",
   "language": "python",
   "name": "python3"
  },
  "language_info": {
   "codemirror_mode": {
    "name": "ipython",
    "version": 3
   },
   "file_extension": ".py",
   "mimetype": "text/x-python",
   "name": "python",
   "nbconvert_exporter": "python",
   "pygments_lexer": "ipython3",
   "version": "3.10.11"
  }
 },
 "nbformat": 4,
 "nbformat_minor": 5
}
